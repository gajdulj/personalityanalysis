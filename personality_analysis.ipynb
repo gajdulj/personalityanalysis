{
 "cells": [
  {
   "cell_type": "markdown",
   "metadata": {},
   "source": [
    "<b> IMPORTS"
   ]
  },
  {
   "cell_type": "code",
   "execution_count": 4,
   "metadata": {},
   "outputs": [],
   "source": [
    "import pandas as pd\n",
    "import matplotlib\n",
    "import matplotlib.pyplot as plt\n",
    "import seaborn as sns\n",
    "import numpy as np\n",
    "from collections import defaultdict\n",
    "from xgboost import XGBClassifier\n",
    "%matplotlib inline\n",
    "from sklearn.model_selection import train_test_split\n",
    "from sklearn.metrics import accuracy_score\n",
    "from sklearn.metrics import roc_auc_score"
   ]
  },
  {
   "cell_type": "markdown",
   "metadata": {},
   "source": [
    "<b> GATHER & ASSEES DATA"
   ]
  },
  {
   "cell_type": "code",
   "execution_count": 5,
   "metadata": {},
   "outputs": [
    {
     "data": {
      "text/plain": [
       "'3.1.3'"
      ]
     },
     "execution_count": 5,
     "metadata": {},
     "output_type": "execute_result"
    }
   ],
   "source": [
    "# Check the mpl version (3.1.1 caused issues with seaborn)\n",
    "matplotlib.__version__"
   ]
  },
  {
   "cell_type": "code",
   "execution_count": 6,
   "metadata": {},
   "outputs": [],
   "source": [
    "# Load the data\n",
    "df = pd.read_csv('data-final.csv', sep='\\t')"
   ]
  },
  {
   "cell_type": "code",
   "execution_count": 7,
   "metadata": {},
   "outputs": [
    {
     "data": {
      "text/html": [
       "<div>\n",
       "<style scoped>\n",
       "    .dataframe tbody tr th:only-of-type {\n",
       "        vertical-align: middle;\n",
       "    }\n",
       "\n",
       "    .dataframe tbody tr th {\n",
       "        vertical-align: top;\n",
       "    }\n",
       "\n",
       "    .dataframe thead th {\n",
       "        text-align: right;\n",
       "    }\n",
       "</style>\n",
       "<table border=\"1\" class=\"dataframe\">\n",
       "  <thead>\n",
       "    <tr style=\"text-align: right;\">\n",
       "      <th></th>\n",
       "      <th>EXT1</th>\n",
       "      <th>EXT2</th>\n",
       "      <th>EXT3</th>\n",
       "      <th>EXT4</th>\n",
       "      <th>EXT5</th>\n",
       "      <th>EXT6</th>\n",
       "      <th>EXT7</th>\n",
       "      <th>EXT8</th>\n",
       "      <th>EXT9</th>\n",
       "      <th>EXT10</th>\n",
       "      <th>...</th>\n",
       "      <th>dateload</th>\n",
       "      <th>screenw</th>\n",
       "      <th>screenh</th>\n",
       "      <th>introelapse</th>\n",
       "      <th>testelapse</th>\n",
       "      <th>endelapse</th>\n",
       "      <th>IPC</th>\n",
       "      <th>country</th>\n",
       "      <th>lat_appx_lots_of_err</th>\n",
       "      <th>long_appx_lots_of_err</th>\n",
       "    </tr>\n",
       "  </thead>\n",
       "  <tbody>\n",
       "    <tr>\n",
       "      <th>0</th>\n",
       "      <td>4.0</td>\n",
       "      <td>1.0</td>\n",
       "      <td>5.0</td>\n",
       "      <td>2.0</td>\n",
       "      <td>5.0</td>\n",
       "      <td>1.0</td>\n",
       "      <td>5.0</td>\n",
       "      <td>2.0</td>\n",
       "      <td>4.0</td>\n",
       "      <td>1.0</td>\n",
       "      <td>...</td>\n",
       "      <td>2016-03-03 02:01:01</td>\n",
       "      <td>768.0</td>\n",
       "      <td>1024.0</td>\n",
       "      <td>9.0</td>\n",
       "      <td>234.0</td>\n",
       "      <td>6</td>\n",
       "      <td>1</td>\n",
       "      <td>GB</td>\n",
       "      <td>51.5448</td>\n",
       "      <td>0.1991</td>\n",
       "    </tr>\n",
       "  </tbody>\n",
       "</table>\n",
       "<p>1 rows × 110 columns</p>\n",
       "</div>"
      ],
      "text/plain": [
       "   EXT1  EXT2  EXT3  EXT4  EXT5  EXT6  EXT7  EXT8  EXT9  EXT10  ...  \\\n",
       "0   4.0   1.0   5.0   2.0   5.0   1.0   5.0   2.0   4.0    1.0  ...   \n",
       "\n",
       "              dateload  screenw  screenh  introelapse  testelapse  endelapse  \\\n",
       "0  2016-03-03 02:01:01    768.0   1024.0          9.0       234.0          6   \n",
       "\n",
       "   IPC  country  lat_appx_lots_of_err  long_appx_lots_of_err  \n",
       "0    1       GB               51.5448                 0.1991  \n",
       "\n",
       "[1 rows x 110 columns]"
      ]
     },
     "execution_count": 7,
     "metadata": {},
     "output_type": "execute_result"
    }
   ],
   "source": [
    "# Inspect the data\n",
    "df.head(1)"
   ]
  },
  {
   "cell_type": "code",
   "execution_count": 8,
   "metadata": {},
   "outputs": [
    {
     "name": "stdout",
     "output_type": "stream",
     "text": [
      "<class 'pandas.core.frame.DataFrame'>\n",
      "RangeIndex: 1015341 entries, 0 to 1015340\n",
      "Columns: 110 entries, EXT1 to long_appx_lots_of_err\n",
      "dtypes: float64(104), int64(2), object(4)\n",
      "memory usage: 852.1+ MB\n"
     ]
    }
   ],
   "source": [
    "# Inspect the metadata\n",
    "df.info(verbose=False)"
   ]
  },
  {
   "cell_type": "code",
   "execution_count": 9,
   "metadata": {},
   "outputs": [
    {
     "name": "stdout",
     "output_type": "stream",
     "text": [
      "Number of rows: 1015341\n",
      "Number of cols: 110\n"
     ]
    }
   ],
   "source": [
    "# Inspect the data shape\n",
    "print('Number of rows:',df.shape[0])\n",
    "print('Number of cols:',df.shape[1])"
   ]
  },
  {
   "cell_type": "code",
   "execution_count": 10,
   "metadata": {},
   "outputs": [],
   "source": [
    "# Classify the columns to categorical and numerical\n",
    "num_cols = df._get_numeric_data().columns\n",
    "cat_cols = [col for col in df.columns if col not in num_cols]"
   ]
  },
  {
   "cell_type": "code",
   "execution_count": 11,
   "metadata": {},
   "outputs": [
    {
     "name": "stdout",
     "output_type": "stream",
     "text": [
      "Number of columns: 110\n",
      "Numerical columns: 106\n",
      "Categorical columns: 4\n"
     ]
    }
   ],
   "source": [
    "print('Number of columns:',len(df.columns))\n",
    "print('Numerical columns:',len(num_cols))\n",
    "print('Categorical columns:',len(cat_cols))"
   ]
  },
  {
   "cell_type": "markdown",
   "metadata": {},
   "source": [
    "<b> CLEAN THE DATA"
   ]
  },
  {
   "cell_type": "code",
   "execution_count": 12,
   "metadata": {},
   "outputs": [],
   "source": [
    "# First step of cleaning- IPC.\n",
    "# Limit the analysis to IPC =1 to get rid of duplicated submissions.\n",
    "\"\"\"\n",
    "As per Kaggle dataset description:\n",
    "The number of records from the user's IP address in the dataset. \n",
    "For max cleanliness, only use records where this value is 1. \n",
    "High values can be because of shared networks (e.g. entire universities) or multiple submissions\n",
    "\"\"\"\n",
    "df = df.loc[df['IPC']==1]"
   ]
  },
  {
   "cell_type": "code",
   "execution_count": 13,
   "metadata": {},
   "outputs": [],
   "source": [
    "# List the redundant cols such as response times and longitude and latitudee\n",
    "drop_cols=list(df.columns[50:107])+list(df.columns[-2:])"
   ]
  },
  {
   "cell_type": "code",
   "execution_count": 14,
   "metadata": {},
   "outputs": [],
   "source": [
    "# Drop the redundant cols\n",
    "df=df.drop((drop_cols), axis=1)"
   ]
  },
  {
   "cell_type": "code",
   "execution_count": 15,
   "metadata": {},
   "outputs": [
    {
     "data": {
      "text/plain": [
       "222"
      ]
     },
     "execution_count": 15,
     "metadata": {},
     "output_type": "execute_result"
    }
   ],
   "source": [
    "# List the number of unique countries, count them\n",
    "countries = df['country'].unique()\n",
    "len(countries)"
   ]
  },
  {
   "cell_type": "code",
   "execution_count": 16,
   "metadata": {},
   "outputs": [
    {
     "data": {
      "text/plain": [
       "28"
      ]
     },
     "execution_count": 16,
     "metadata": {},
     "output_type": "execute_result"
    }
   ],
   "source": [
    "# A list of all EU countries, count them\n",
    "EU = [\"AT\", \"BE\", \"BG\", \"CY\", \"CZ\", \"DE\", \"DK\", \"EE\", \"ES\", \"FI\", \"FR\", \"GB\", \"GR\", \"HR\", \"HU\", \"IE\", \"IT\", \"LT\", \"LU\", \"LV\", \"MT\", \"NL\", \"PL\", \"PT\", \"RO\", \"SE\", \"SI\", \"SK\"]\n",
    "len(EU)"
   ]
  },
  {
   "cell_type": "code",
   "execution_count": 17,
   "metadata": {},
   "outputs": [
    {
     "data": {
      "text/plain": [
       "28"
      ]
     },
     "execution_count": 17,
     "metadata": {},
     "output_type": "execute_result"
    }
   ],
   "source": [
    "# Check if all EU countries are in the data\n",
    "intersection = set(EU).intersection(set(countries))\n",
    "len(intersection)"
   ]
  },
  {
   "cell_type": "code",
   "execution_count": 18,
   "metadata": {},
   "outputs": [],
   "source": [
    "# Limit the analysis to EU countries\n",
    "df = df.loc[df['country'].isin(EU)]"
   ]
  },
  {
   "cell_type": "code",
   "execution_count": 19,
   "metadata": {},
   "outputs": [
    {
     "data": {
      "text/plain": [
       "GB    49803\n",
       "DE    12327\n",
       "NL     7752\n",
       "SE     7442\n",
       "FR     5121\n",
       "Name: country, dtype: int64"
      ]
     },
     "execution_count": 19,
     "metadata": {},
     "output_type": "execute_result"
    }
   ],
   "source": [
    "# Count responses by country\n",
    "df['country'].value_counts()[:5]"
   ]
  },
  {
   "cell_type": "code",
   "execution_count": 20,
   "metadata": {},
   "outputs": [
    {
     "data": {
      "text/plain": [
       "GB    38.191020\n",
       "DE     9.452858\n",
       "NL     5.944557\n",
       "SE     5.706836\n",
       "FR     3.926997\n",
       "IT     3.397109\n",
       "ES     3.337295\n",
       "PL     3.223803\n",
       "IE     3.154787\n",
       "FI     2.940071\n",
       "DK     2.934703\n",
       "RO     2.578122\n",
       "BE     2.144856\n",
       "GR     1.755301\n",
       "PT     1.707757\n",
       "AT     1.499942\n",
       "HR     1.491507\n",
       "CZ     1.214677\n",
       "HU     1.021433\n",
       "BG     0.871899\n",
       "LT     0.719298\n",
       "EE     0.661018\n",
       "SK     0.620375\n",
       "SI     0.565929\n",
       "LV     0.361949\n",
       "MT     0.246923\n",
       "CY     0.184809\n",
       "LU     0.144166\n",
       "Name: country, dtype: float64"
      ]
     },
     "execution_count": 20,
     "metadata": {},
     "output_type": "execute_result"
    }
   ],
   "source": [
    "# This gives us percentage of responses from each country\n",
    "df['country'].value_counts(normalize=True) * 100"
   ]
  },
  {
   "cell_type": "code",
   "execution_count": 21,
   "metadata": {},
   "outputs": [
    {
     "data": {
      "text/plain": [
       "EXT1    0.000798\n",
       "EXT2    0.000798\n",
       "EXT3    0.000798\n",
       "EXT4    0.000798\n",
       "EXT5    0.000798\n",
       "dtype: float64"
      ]
     },
     "execution_count": 21,
     "metadata": {},
     "output_type": "execute_result"
    }
   ],
   "source": [
    "# Check for missing data.\n",
    "df.isna().mean()[:5]"
   ]
  },
  {
   "cell_type": "code",
   "execution_count": 22,
   "metadata": {},
   "outputs": [],
   "source": [
    "# Drop the missing data\n",
    "df = df.dropna()"
   ]
  },
  {
   "cell_type": "code",
   "execution_count": 23,
   "metadata": {},
   "outputs": [
    {
     "data": {
      "text/plain": [
       "EXT1    0.0\n",
       "EXT2    0.0\n",
       "EXT3    0.0\n",
       "EXT4    0.0\n",
       "EXT5    0.0\n",
       "dtype: float64"
      ]
     },
     "execution_count": 23,
     "metadata": {},
     "output_type": "execute_result"
    }
   ],
   "source": [
    "df.isna().mean()[:5]"
   ]
  },
  {
   "cell_type": "code",
   "execution_count": 24,
   "metadata": {},
   "outputs": [
    {
     "data": {
      "text/html": [
       "<div>\n",
       "<style scoped>\n",
       "    .dataframe tbody tr th:only-of-type {\n",
       "        vertical-align: middle;\n",
       "    }\n",
       "\n",
       "    .dataframe tbody tr th {\n",
       "        vertical-align: top;\n",
       "    }\n",
       "\n",
       "    .dataframe thead th {\n",
       "        text-align: right;\n",
       "    }\n",
       "</style>\n",
       "<table border=\"1\" class=\"dataframe\">\n",
       "  <thead>\n",
       "    <tr style=\"text-align: right;\">\n",
       "      <th></th>\n",
       "      <th>EXT1</th>\n",
       "      <th>EXT2</th>\n",
       "      <th>EXT3</th>\n",
       "      <th>EXT4</th>\n",
       "      <th>EXT5</th>\n",
       "      <th>EXT6</th>\n",
       "      <th>EXT7</th>\n",
       "      <th>EXT8</th>\n",
       "      <th>EXT9</th>\n",
       "      <th>EXT10</th>\n",
       "      <th>...</th>\n",
       "      <th>OPN2</th>\n",
       "      <th>OPN3</th>\n",
       "      <th>OPN4</th>\n",
       "      <th>OPN5</th>\n",
       "      <th>OPN6</th>\n",
       "      <th>OPN7</th>\n",
       "      <th>OPN8</th>\n",
       "      <th>OPN9</th>\n",
       "      <th>OPN10</th>\n",
       "      <th>country</th>\n",
       "    </tr>\n",
       "  </thead>\n",
       "  <tbody>\n",
       "    <tr>\n",
       "      <th>0</th>\n",
       "      <td>4.0</td>\n",
       "      <td>1.0</td>\n",
       "      <td>5.0</td>\n",
       "      <td>2.0</td>\n",
       "      <td>5.0</td>\n",
       "      <td>1.0</td>\n",
       "      <td>5.0</td>\n",
       "      <td>2.0</td>\n",
       "      <td>4.0</td>\n",
       "      <td>1.0</td>\n",
       "      <td>...</td>\n",
       "      <td>1.0</td>\n",
       "      <td>4.0</td>\n",
       "      <td>1.0</td>\n",
       "      <td>4.0</td>\n",
       "      <td>1.0</td>\n",
       "      <td>5.0</td>\n",
       "      <td>3.0</td>\n",
       "      <td>4.0</td>\n",
       "      <td>5.0</td>\n",
       "      <td>GB</td>\n",
       "    </tr>\n",
       "    <tr>\n",
       "      <th>2</th>\n",
       "      <td>2.0</td>\n",
       "      <td>3.0</td>\n",
       "      <td>4.0</td>\n",
       "      <td>4.0</td>\n",
       "      <td>3.0</td>\n",
       "      <td>2.0</td>\n",
       "      <td>1.0</td>\n",
       "      <td>3.0</td>\n",
       "      <td>2.0</td>\n",
       "      <td>5.0</td>\n",
       "      <td>...</td>\n",
       "      <td>1.0</td>\n",
       "      <td>2.0</td>\n",
       "      <td>1.0</td>\n",
       "      <td>4.0</td>\n",
       "      <td>2.0</td>\n",
       "      <td>5.0</td>\n",
       "      <td>3.0</td>\n",
       "      <td>4.0</td>\n",
       "      <td>4.0</td>\n",
       "      <td>GB</td>\n",
       "    </tr>\n",
       "    <tr>\n",
       "      <th>3</th>\n",
       "      <td>2.0</td>\n",
       "      <td>2.0</td>\n",
       "      <td>2.0</td>\n",
       "      <td>3.0</td>\n",
       "      <td>4.0</td>\n",
       "      <td>2.0</td>\n",
       "      <td>2.0</td>\n",
       "      <td>4.0</td>\n",
       "      <td>1.0</td>\n",
       "      <td>4.0</td>\n",
       "      <td>...</td>\n",
       "      <td>2.0</td>\n",
       "      <td>5.0</td>\n",
       "      <td>2.0</td>\n",
       "      <td>3.0</td>\n",
       "      <td>1.0</td>\n",
       "      <td>4.0</td>\n",
       "      <td>4.0</td>\n",
       "      <td>3.0</td>\n",
       "      <td>3.0</td>\n",
       "      <td>GB</td>\n",
       "    </tr>\n",
       "    <tr>\n",
       "      <th>5</th>\n",
       "      <td>3.0</td>\n",
       "      <td>3.0</td>\n",
       "      <td>4.0</td>\n",
       "      <td>2.0</td>\n",
       "      <td>4.0</td>\n",
       "      <td>2.0</td>\n",
       "      <td>2.0</td>\n",
       "      <td>3.0</td>\n",
       "      <td>3.0</td>\n",
       "      <td>4.0</td>\n",
       "      <td>...</td>\n",
       "      <td>1.0</td>\n",
       "      <td>5.0</td>\n",
       "      <td>1.0</td>\n",
       "      <td>3.0</td>\n",
       "      <td>1.0</td>\n",
       "      <td>5.0</td>\n",
       "      <td>4.0</td>\n",
       "      <td>5.0</td>\n",
       "      <td>2.0</td>\n",
       "      <td>SE</td>\n",
       "    </tr>\n",
       "    <tr>\n",
       "      <th>8</th>\n",
       "      <td>2.0</td>\n",
       "      <td>2.0</td>\n",
       "      <td>3.0</td>\n",
       "      <td>3.0</td>\n",
       "      <td>4.0</td>\n",
       "      <td>2.0</td>\n",
       "      <td>2.0</td>\n",
       "      <td>2.0</td>\n",
       "      <td>4.0</td>\n",
       "      <td>4.0</td>\n",
       "      <td>...</td>\n",
       "      <td>1.0</td>\n",
       "      <td>5.0</td>\n",
       "      <td>1.0</td>\n",
       "      <td>4.0</td>\n",
       "      <td>1.0</td>\n",
       "      <td>5.0</td>\n",
       "      <td>2.0</td>\n",
       "      <td>5.0</td>\n",
       "      <td>5.0</td>\n",
       "      <td>GB</td>\n",
       "    </tr>\n",
       "  </tbody>\n",
       "</table>\n",
       "<p>5 rows × 51 columns</p>\n",
       "</div>"
      ],
      "text/plain": [
       "   EXT1  EXT2  EXT3  EXT4  EXT5  EXT6  EXT7  EXT8  EXT9  EXT10  ...  OPN2  \\\n",
       "0   4.0   1.0   5.0   2.0   5.0   1.0   5.0   2.0   4.0    1.0  ...   1.0   \n",
       "2   2.0   3.0   4.0   4.0   3.0   2.0   1.0   3.0   2.0    5.0  ...   1.0   \n",
       "3   2.0   2.0   2.0   3.0   4.0   2.0   2.0   4.0   1.0    4.0  ...   2.0   \n",
       "5   3.0   3.0   4.0   2.0   4.0   2.0   2.0   3.0   3.0    4.0  ...   1.0   \n",
       "8   2.0   2.0   3.0   3.0   4.0   2.0   2.0   2.0   4.0    4.0  ...   1.0   \n",
       "\n",
       "   OPN3  OPN4  OPN5  OPN6  OPN7  OPN8  OPN9  OPN10  country  \n",
       "0   4.0   1.0   4.0   1.0   5.0   3.0   4.0    5.0       GB  \n",
       "2   2.0   1.0   4.0   2.0   5.0   3.0   4.0    4.0       GB  \n",
       "3   5.0   2.0   3.0   1.0   4.0   4.0   3.0    3.0       GB  \n",
       "5   5.0   1.0   3.0   1.0   5.0   4.0   5.0    2.0       SE  \n",
       "8   5.0   1.0   4.0   1.0   5.0   2.0   5.0    5.0       GB  \n",
       "\n",
       "[5 rows x 51 columns]"
      ]
     },
     "execution_count": 24,
     "metadata": {},
     "output_type": "execute_result"
    }
   ],
   "source": [
    "df.head()"
   ]
  },
  {
   "cell_type": "markdown",
   "metadata": {},
   "source": [
    "<b> FEATURE ENGINEERING"
   ]
  },
  {
   "cell_type": "code",
   "execution_count": 25,
   "metadata": {},
   "outputs": [],
   "source": [
    "# Create an aggregated feature for each of the five personality dimensions.\n",
    "# They will average the 10 answers across the dimension.\n",
    "\n",
    "# Extraversion \n",
    "EXT = list(df.columns[:10])\n",
    "# Emotional Stability\n",
    "EST = list(df.columns[10:20])\n",
    "# Agreeableness\n",
    "AGR = list(df.columns[20:30])\n",
    "# Conscientiousness\n",
    "CSN = list(df.columns[30:40])\n",
    "# Openness\n",
    "OPN = list(df.columns[40:50])\n",
    "\n",
    "dimensions = [EXT,EST,AGR,CSN,OPN]\n",
    "dimension_averages=[\"extraversion\",\"emotional_stability\",\n",
    "       \"agreeableness\",\"conscientiousness\",\"openness\"]"
   ]
  },
  {
   "cell_type": "code",
   "execution_count": 26,
   "metadata": {},
   "outputs": [],
   "source": [
    "for d in range(len(dimensions)):\n",
    "    df[dimension_averages[d]] = df[dimensions[d]].mean(axis=1)"
   ]
  },
  {
   "cell_type": "markdown",
   "metadata": {},
   "source": [
    "<b> ANALYSE THE DATA"
   ]
  },
  {
   "cell_type": "code",
   "execution_count": 27,
   "metadata": {},
   "outputs": [
    {
     "data": {
      "text/html": [
       "<div>\n",
       "<style scoped>\n",
       "    .dataframe tbody tr th:only-of-type {\n",
       "        vertical-align: middle;\n",
       "    }\n",
       "\n",
       "    .dataframe tbody tr th {\n",
       "        vertical-align: top;\n",
       "    }\n",
       "\n",
       "    .dataframe thead th {\n",
       "        text-align: right;\n",
       "    }\n",
       "</style>\n",
       "<table border=\"1\" class=\"dataframe\">\n",
       "  <thead>\n",
       "    <tr style=\"text-align: right;\">\n",
       "      <th></th>\n",
       "      <th>EXT1</th>\n",
       "      <th>EXT2</th>\n",
       "      <th>EXT3</th>\n",
       "      <th>EXT4</th>\n",
       "      <th>EXT5</th>\n",
       "      <th>EXT6</th>\n",
       "      <th>EXT7</th>\n",
       "      <th>EXT8</th>\n",
       "      <th>EXT9</th>\n",
       "      <th>EXT10</th>\n",
       "      <th>...</th>\n",
       "      <th>OPN7</th>\n",
       "      <th>OPN8</th>\n",
       "      <th>OPN9</th>\n",
       "      <th>OPN10</th>\n",
       "      <th>country</th>\n",
       "      <th>extraversion</th>\n",
       "      <th>emotional_stability</th>\n",
       "      <th>agreeableness</th>\n",
       "      <th>conscientiousness</th>\n",
       "      <th>openness</th>\n",
       "    </tr>\n",
       "  </thead>\n",
       "  <tbody>\n",
       "    <tr>\n",
       "      <th>0</th>\n",
       "      <td>4.0</td>\n",
       "      <td>1.0</td>\n",
       "      <td>5.0</td>\n",
       "      <td>2.0</td>\n",
       "      <td>5.0</td>\n",
       "      <td>1.0</td>\n",
       "      <td>5.0</td>\n",
       "      <td>2.0</td>\n",
       "      <td>4.0</td>\n",
       "      <td>1.0</td>\n",
       "      <td>...</td>\n",
       "      <td>5.0</td>\n",
       "      <td>3.0</td>\n",
       "      <td>4.0</td>\n",
       "      <td>5.0</td>\n",
       "      <td>GB</td>\n",
       "      <td>3.0</td>\n",
       "      <td>2.4</td>\n",
       "      <td>3.1</td>\n",
       "      <td>3.2</td>\n",
       "      <td>3.3</td>\n",
       "    </tr>\n",
       "    <tr>\n",
       "      <th>2</th>\n",
       "      <td>2.0</td>\n",
       "      <td>3.0</td>\n",
       "      <td>4.0</td>\n",
       "      <td>4.0</td>\n",
       "      <td>3.0</td>\n",
       "      <td>2.0</td>\n",
       "      <td>1.0</td>\n",
       "      <td>3.0</td>\n",
       "      <td>2.0</td>\n",
       "      <td>5.0</td>\n",
       "      <td>...</td>\n",
       "      <td>5.0</td>\n",
       "      <td>3.0</td>\n",
       "      <td>4.0</td>\n",
       "      <td>4.0</td>\n",
       "      <td>GB</td>\n",
       "      <td>2.9</td>\n",
       "      <td>2.6</td>\n",
       "      <td>2.8</td>\n",
       "      <td>2.8</td>\n",
       "      <td>3.1</td>\n",
       "    </tr>\n",
       "    <tr>\n",
       "      <th>3</th>\n",
       "      <td>2.0</td>\n",
       "      <td>2.0</td>\n",
       "      <td>2.0</td>\n",
       "      <td>3.0</td>\n",
       "      <td>4.0</td>\n",
       "      <td>2.0</td>\n",
       "      <td>2.0</td>\n",
       "      <td>4.0</td>\n",
       "      <td>1.0</td>\n",
       "      <td>4.0</td>\n",
       "      <td>...</td>\n",
       "      <td>4.0</td>\n",
       "      <td>4.0</td>\n",
       "      <td>3.0</td>\n",
       "      <td>3.0</td>\n",
       "      <td>GB</td>\n",
       "      <td>2.6</td>\n",
       "      <td>2.7</td>\n",
       "      <td>3.2</td>\n",
       "      <td>2.7</td>\n",
       "      <td>3.1</td>\n",
       "    </tr>\n",
       "    <tr>\n",
       "      <th>5</th>\n",
       "      <td>3.0</td>\n",
       "      <td>3.0</td>\n",
       "      <td>4.0</td>\n",
       "      <td>2.0</td>\n",
       "      <td>4.0</td>\n",
       "      <td>2.0</td>\n",
       "      <td>2.0</td>\n",
       "      <td>3.0</td>\n",
       "      <td>3.0</td>\n",
       "      <td>4.0</td>\n",
       "      <td>...</td>\n",
       "      <td>5.0</td>\n",
       "      <td>4.0</td>\n",
       "      <td>5.0</td>\n",
       "      <td>2.0</td>\n",
       "      <td>SE</td>\n",
       "      <td>3.0</td>\n",
       "      <td>2.2</td>\n",
       "      <td>2.8</td>\n",
       "      <td>2.9</td>\n",
       "      <td>3.2</td>\n",
       "    </tr>\n",
       "    <tr>\n",
       "      <th>8</th>\n",
       "      <td>2.0</td>\n",
       "      <td>2.0</td>\n",
       "      <td>3.0</td>\n",
       "      <td>3.0</td>\n",
       "      <td>4.0</td>\n",
       "      <td>2.0</td>\n",
       "      <td>2.0</td>\n",
       "      <td>2.0</td>\n",
       "      <td>4.0</td>\n",
       "      <td>4.0</td>\n",
       "      <td>...</td>\n",
       "      <td>5.0</td>\n",
       "      <td>2.0</td>\n",
       "      <td>5.0</td>\n",
       "      <td>5.0</td>\n",
       "      <td>GB</td>\n",
       "      <td>2.8</td>\n",
       "      <td>2.8</td>\n",
       "      <td>2.9</td>\n",
       "      <td>2.5</td>\n",
       "      <td>3.3</td>\n",
       "    </tr>\n",
       "  </tbody>\n",
       "</table>\n",
       "<p>5 rows × 56 columns</p>\n",
       "</div>"
      ],
      "text/plain": [
       "   EXT1  EXT2  EXT3  EXT4  EXT5  EXT6  EXT7  EXT8  EXT9  EXT10  ...  OPN7  \\\n",
       "0   4.0   1.0   5.0   2.0   5.0   1.0   5.0   2.0   4.0    1.0  ...   5.0   \n",
       "2   2.0   3.0   4.0   4.0   3.0   2.0   1.0   3.0   2.0    5.0  ...   5.0   \n",
       "3   2.0   2.0   2.0   3.0   4.0   2.0   2.0   4.0   1.0    4.0  ...   4.0   \n",
       "5   3.0   3.0   4.0   2.0   4.0   2.0   2.0   3.0   3.0    4.0  ...   5.0   \n",
       "8   2.0   2.0   3.0   3.0   4.0   2.0   2.0   2.0   4.0    4.0  ...   5.0   \n",
       "\n",
       "   OPN8  OPN9  OPN10  country  extraversion  emotional_stability  \\\n",
       "0   3.0   4.0    5.0       GB           3.0                  2.4   \n",
       "2   3.0   4.0    4.0       GB           2.9                  2.6   \n",
       "3   4.0   3.0    3.0       GB           2.6                  2.7   \n",
       "5   4.0   5.0    2.0       SE           3.0                  2.2   \n",
       "8   2.0   5.0    5.0       GB           2.8                  2.8   \n",
       "\n",
       "   agreeableness  conscientiousness  openness  \n",
       "0            3.1                3.2       3.3  \n",
       "2            2.8                2.8       3.1  \n",
       "3            3.2                2.7       3.1  \n",
       "5            2.8                2.9       3.2  \n",
       "8            2.9                2.5       3.3  \n",
       "\n",
       "[5 rows x 56 columns]"
      ]
     },
     "execution_count": 27,
     "metadata": {},
     "output_type": "execute_result"
    }
   ],
   "source": [
    "df.head()"
   ]
  },
  {
   "cell_type": "code",
   "execution_count": 28,
   "metadata": {},
   "outputs": [
    {
     "data": {
      "text/html": [
       "<div>\n",
       "<style scoped>\n",
       "    .dataframe tbody tr th:only-of-type {\n",
       "        vertical-align: middle;\n",
       "    }\n",
       "\n",
       "    .dataframe tbody tr th {\n",
       "        vertical-align: top;\n",
       "    }\n",
       "\n",
       "    .dataframe thead th {\n",
       "        text-align: right;\n",
       "    }\n",
       "</style>\n",
       "<table border=\"1\" class=\"dataframe\">\n",
       "  <thead>\n",
       "    <tr style=\"text-align: right;\">\n",
       "      <th></th>\n",
       "      <th>extraversion</th>\n",
       "      <th>emotional_stability</th>\n",
       "      <th>agreeableness</th>\n",
       "      <th>conscientiousness</th>\n",
       "      <th>openness</th>\n",
       "    </tr>\n",
       "  </thead>\n",
       "  <tbody>\n",
       "    <tr>\n",
       "      <th>count</th>\n",
       "      <td>130301.000000</td>\n",
       "      <td>130301.000000</td>\n",
       "      <td>130301.000000</td>\n",
       "      <td>130301.000000</td>\n",
       "      <td>130301.000000</td>\n",
       "    </tr>\n",
       "    <tr>\n",
       "      <th>mean</th>\n",
       "      <td>2.985394</td>\n",
       "      <td>3.065468</td>\n",
       "      <td>3.105783</td>\n",
       "      <td>3.088718</td>\n",
       "      <td>3.307225</td>\n",
       "    </tr>\n",
       "    <tr>\n",
       "      <th>std</th>\n",
       "      <td>0.357523</td>\n",
       "      <td>0.650218</td>\n",
       "      <td>0.375960</td>\n",
       "      <td>0.407831</td>\n",
       "      <td>0.398023</td>\n",
       "    </tr>\n",
       "    <tr>\n",
       "      <th>min</th>\n",
       "      <td>0.000000</td>\n",
       "      <td>0.000000</td>\n",
       "      <td>0.000000</td>\n",
       "      <td>0.000000</td>\n",
       "      <td>0.000000</td>\n",
       "    </tr>\n",
       "    <tr>\n",
       "      <th>25%</th>\n",
       "      <td>2.800000</td>\n",
       "      <td>2.600000</td>\n",
       "      <td>2.900000</td>\n",
       "      <td>2.800000</td>\n",
       "      <td>3.100000</td>\n",
       "    </tr>\n",
       "    <tr>\n",
       "      <th>50%</th>\n",
       "      <td>3.000000</td>\n",
       "      <td>3.100000</td>\n",
       "      <td>3.100000</td>\n",
       "      <td>3.100000</td>\n",
       "      <td>3.300000</td>\n",
       "    </tr>\n",
       "    <tr>\n",
       "      <th>75%</th>\n",
       "      <td>3.200000</td>\n",
       "      <td>3.500000</td>\n",
       "      <td>3.300000</td>\n",
       "      <td>3.300000</td>\n",
       "      <td>3.600000</td>\n",
       "    </tr>\n",
       "    <tr>\n",
       "      <th>max</th>\n",
       "      <td>5.000000</td>\n",
       "      <td>5.000000</td>\n",
       "      <td>5.000000</td>\n",
       "      <td>5.000000</td>\n",
       "      <td>5.000000</td>\n",
       "    </tr>\n",
       "  </tbody>\n",
       "</table>\n",
       "</div>"
      ],
      "text/plain": [
       "        extraversion  emotional_stability  agreeableness  conscientiousness  \\\n",
       "count  130301.000000        130301.000000  130301.000000      130301.000000   \n",
       "mean        2.985394             3.065468       3.105783           3.088718   \n",
       "std         0.357523             0.650218       0.375960           0.407831   \n",
       "min         0.000000             0.000000       0.000000           0.000000   \n",
       "25%         2.800000             2.600000       2.900000           2.800000   \n",
       "50%         3.000000             3.100000       3.100000           3.100000   \n",
       "75%         3.200000             3.500000       3.300000           3.300000   \n",
       "max         5.000000             5.000000       5.000000           5.000000   \n",
       "\n",
       "            openness  \n",
       "count  130301.000000  \n",
       "mean        3.307225  \n",
       "std         0.398023  \n",
       "min         0.000000  \n",
       "25%         3.100000  \n",
       "50%         3.300000  \n",
       "75%         3.600000  \n",
       "max         5.000000  "
      ]
     },
     "execution_count": 28,
     "metadata": {},
     "output_type": "execute_result"
    }
   ],
   "source": [
    "# Analyse the aggregated features\n",
    "df[dimension_averages].describe()"
   ]
  },
  {
   "cell_type": "markdown",
   "metadata": {},
   "source": [
    "<b> VISUALISE THE DATA"
   ]
  },
  {
   "cell_type": "code",
   "execution_count": 26,
   "metadata": {},
   "outputs": [],
   "source": [
    "corr=df[dimension_averages].corr()"
   ]
  },
  {
   "cell_type": "code",
   "execution_count": 37,
   "metadata": {},
   "outputs": [
    {
     "data": {
      "text/plain": [
       "Text(0.5, 1.0, 'Average characteristics of European citizens')"
      ]
     },
     "execution_count": 37,
     "metadata": {},
     "output_type": "execute_result"
    },
    {
     "data": {
      "image/png": "[encoded data removed]",
      "text/plain": [
       "<Figure size 720x504 with 1 Axes>"
      ]
     },
     "metadata": {},
     "output_type": "display_data"
    }
   ],
   "source": [
    "# Use a boxlot to visualise the 5 variables\n",
    "# This method will give us a good overview of the distribution across the variables\n",
    "sns.set_style(\"darkgrid\")\n",
    "sns.boxplot(data=df[dimension_averages]);\n",
    "sns.set(rc={'figure.figsize':(20,7)})\n",
    "plt.title(\"Average characteristics of European citizens\")"
   ]
  },
  {
   "cell_type": "code",
   "execution_count": 32,
   "metadata": {},
   "outputs": [
    {
     "data": {
      "image/png": "[encoded data removed]",
      "text/plain": [
       "<Figure size 360x360 with 1 Axes>"
      ]
     },
     "metadata": {},
     "output_type": "display_data"
    }
   ],
   "source": [
    "# Visualise the correlation\n",
    "mask = np.triu(corr)\n",
    "sns.set(rc={'figure.figsize':(5,5)})\n",
    "sns.set(font_scale=0.75)\n",
    "sns.heatmap(df[dimension_averages].corr(),\n",
    "            vmin=0,\n",
    "            vmax=1,\n",
    "            annot = True,\n",
    "            square=True, \n",
    "            mask=mask,\n",
    "            cbar=False)\n",
    "plt.title('Correlation between personality traits')\n",
    "plt.show()"
   ]
  },
  {
   "cell_type": "code",
   "execution_count": 29,
   "metadata": {},
   "outputs": [],
   "source": [
    "# Subset df to only those with country GB, PL\n",
    "gb = df.loc[df['country']==\"GB\"]\n",
    "pl = df.loc[df['country']==\"PL\"]"
   ]
  },
  {
   "cell_type": "code",
   "execution_count": 30,
   "metadata": {},
   "outputs": [],
   "source": [
    "# Limit the analysis to two countries and averages across 5 dimensions\n",
    "pl = pl[pl.columns[-6:]]\n",
    "gb = gb[gb.columns[-6:]]"
   ]
  },
  {
   "cell_type": "code",
   "execution_count": 31,
   "metadata": {},
   "outputs": [],
   "source": [
    "def transpose_table(df, col_list):\n",
    "    \"\"\"\n",
    "    INPUT \n",
    "        df - a dataframe holding the col_list columns\n",
    "        col_list- columns that we want to transpose into rows\n",
    "        \n",
    "    OUTPUT\n",
    "        new_df- a transposed dataframe.\n",
    "    \"\"\"\n",
    "    new_df = defaultdict(int)\n",
    "    for i in col_list:\n",
    "        new_df[i]=df[i].mean()\n",
    "    new_df = pd.DataFrame(pd.Series(new_df)).reset_index()\n",
    "    new_df.rename(columns={'index': 'personality', 0: 'average'}, inplace=True)\n",
    "    new_df.set_index('personality', inplace=True)\n",
    "    return new_df "
   ]
  },
  {
   "cell_type": "code",
   "execution_count": 32,
   "metadata": {},
   "outputs": [
    {
     "data": {
      "text/plain": [
       "['extraversion',\n",
       " 'emotional_stability',\n",
       " 'agreeableness',\n",
       " 'conscientiousness',\n",
       " 'openness']"
      ]
     },
     "execution_count": 32,
     "metadata": {},
     "output_type": "execute_result"
    }
   ],
   "source": [
    "dimension_averages"
   ]
  },
  {
   "cell_type": "code",
   "execution_count": 31,
   "metadata": {},
   "outputs": [
    {
     "data": {
      "text/html": [
       "<style  type=\"text/css\" >\n",
       "    #T_d4c14d68_6aa3_11ea_a0ce_acbc3288468frow0_col2 {\n",
       "            width:  10em;\n",
       "             height:  80%;\n",
       "            background:  linear-gradient(90deg, transparent 43.6%, #5fba7d 43.6%, #5fba7d 100.0%, transparent 100.0%);\n",
       "        }    #T_d4c14d68_6aa3_11ea_a0ce_acbc3288468frow1_col2 {\n",
       "            width:  10em;\n",
       "             height:  80%;\n",
       "            background:  linear-gradient(90deg,#d65f5f 43.6%, transparent 43.6%);\n",
       "        }    #T_d4c14d68_6aa3_11ea_a0ce_acbc3288468frow2_col2 {\n",
       "            width:  10em;\n",
       "             height:  80%;\n",
       "            background:  linear-gradient(90deg, transparent 43.6%, #5fba7d 43.6%, #5fba7d 67.6%, transparent 67.6%);\n",
       "        }    #T_d4c14d68_6aa3_11ea_a0ce_acbc3288468frow3_col2 {\n",
       "            width:  10em;\n",
       "             height:  80%;\n",
       "            background:  linear-gradient(90deg, transparent 4.5%, #d65f5f 4.5%, #d65f5f 43.6%, transparent 43.6%);\n",
       "        }    #T_d4c14d68_6aa3_11ea_a0ce_acbc3288468frow4_col2 {\n",
       "            width:  10em;\n",
       "             height:  80%;\n",
       "            background:  linear-gradient(90deg, transparent 37.0%, #d65f5f 37.0%, #d65f5f 43.6%, transparent 43.6%);\n",
       "        }</style><table id=\"T_d4c14d68_6aa3_11ea_a0ce_acbc3288468f\" ><thead>    <tr>        <th class=\"blank level0\" ></th>        <th class=\"col_heading level0 col0\" >gb_avg</th>        <th class=\"col_heading level0 col1\" >pl_avg</th>        <th class=\"col_heading level0 col2\" >value_difference</th>    </tr>    <tr>        <th class=\"index_name level0\" >personality</th>        <th class=\"blank\" ></th>        <th class=\"blank\" ></th>        <th class=\"blank\" ></th>    </tr></thead><tbody>\n",
       "                <tr>\n",
       "                        <th id=\"T_d4c14d68_6aa3_11ea_a0ce_acbc3288468flevel0_row0\" class=\"row_heading level0 row0\" >extraversion</th>\n",
       "                        <td id=\"T_d4c14d68_6aa3_11ea_a0ce_acbc3288468frow0_col0\" class=\"data row0 col0\" >2.997948</td>\n",
       "                        <td id=\"T_d4c14d68_6aa3_11ea_a0ce_acbc3288468frow0_col1\" class=\"data row0 col1\" >2.928837</td>\n",
       "                        <td id=\"T_d4c14d68_6aa3_11ea_a0ce_acbc3288468frow0_col2\" class=\"data row0 col2\" >0.069112</td>\n",
       "            </tr>\n",
       "            <tr>\n",
       "                        <th id=\"T_d4c14d68_6aa3_11ea_a0ce_acbc3288468flevel0_row1\" class=\"row_heading level0 row1\" >emotional_stability</th>\n",
       "                        <td id=\"T_d4c14d68_6aa3_11ea_a0ce_acbc3288468frow1_col0\" class=\"data row1 col0\" >3.107214</td>\n",
       "                        <td id=\"T_d4c14d68_6aa3_11ea_a0ce_acbc3288468frow1_col1\" class=\"data row1 col1\" >3.160671</td>\n",
       "                        <td id=\"T_d4c14d68_6aa3_11ea_a0ce_acbc3288468frow1_col2\" class=\"data row1 col2\" >-0.053457</td>\n",
       "            </tr>\n",
       "            <tr>\n",
       "                        <th id=\"T_d4c14d68_6aa3_11ea_a0ce_acbc3288468flevel0_row2\" class=\"row_heading level0 row2\" >agreeableness</th>\n",
       "                        <td id=\"T_d4c14d68_6aa3_11ea_a0ce_acbc3288468frow2_col0\" class=\"data row2 col0\" >3.116576</td>\n",
       "                        <td id=\"T_d4c14d68_6aa3_11ea_a0ce_acbc3288468frow2_col1\" class=\"data row2 col1\" >3.087223</td>\n",
       "                        <td id=\"T_d4c14d68_6aa3_11ea_a0ce_acbc3288468frow2_col2\" class=\"data row2 col2\" >0.029352</td>\n",
       "            </tr>\n",
       "            <tr>\n",
       "                        <th id=\"T_d4c14d68_6aa3_11ea_a0ce_acbc3288468flevel0_row3\" class=\"row_heading level0 row3\" >conscientiousness</th>\n",
       "                        <td id=\"T_d4c14d68_6aa3_11ea_a0ce_acbc3288468frow3_col0\" class=\"data row3 col0\" >3.074450</td>\n",
       "                        <td id=\"T_d4c14d68_6aa3_11ea_a0ce_acbc3288468frow3_col1\" class=\"data row3 col1\" >3.122365</td>\n",
       "                        <td id=\"T_d4c14d68_6aa3_11ea_a0ce_acbc3288468frow3_col2\" class=\"data row3 col2\" >-0.047915</td>\n",
       "            </tr>\n",
       "            <tr>\n",
       "                        <th id=\"T_d4c14d68_6aa3_11ea_a0ce_acbc3288468flevel0_row4\" class=\"row_heading level0 row4\" >openness</th>\n",
       "                        <td id=\"T_d4c14d68_6aa3_11ea_a0ce_acbc3288468frow4_col0\" class=\"data row4 col0\" >3.304419</td>\n",
       "                        <td id=\"T_d4c14d68_6aa3_11ea_a0ce_acbc3288468frow4_col1\" class=\"data row4 col1\" >3.312515</td>\n",
       "                        <td id=\"T_d4c14d68_6aa3_11ea_a0ce_acbc3288468frow4_col2\" class=\"data row4 col2\" >-0.008096</td>\n",
       "            </tr>\n",
       "    </tbody></table>"
      ],
      "text/plain": [
       "<pandas.io.formats.style.Styler at 0x1a5fd3f650>"
      ]
     },
     "execution_count": 31,
     "metadata": {},
     "output_type": "execute_result"
    }
   ],
   "source": [
    "gb_avg = transpose_table(gb,dimension_averages)\n",
    "pl_avg = transpose_table(pl,dimension_averages)\n",
    "comp_df = pd.merge(gb_avg, pl_avg, left_index=True, right_index=True)\n",
    "comp_df.columns = ['gb_avg', 'pl_avg']\n",
    "comp_df['value_difference'] = comp_df['gb_avg'] - comp_df['pl_avg']\n",
    "comp_df.style.bar(subset=['value_difference'], align='mid', color=['#d65f5f', '#5fba7d'])"
   ]
  },
  {
   "cell_type": "code",
   "execution_count": 33,
   "metadata": {},
   "outputs": [
    {
     "data": {
      "text/html": [
       "<div>\n",
       "<style scoped>\n",
       "    .dataframe tbody tr th:only-of-type {\n",
       "        vertical-align: middle;\n",
       "    }\n",
       "\n",
       "    .dataframe tbody tr th {\n",
       "        vertical-align: top;\n",
       "    }\n",
       "\n",
       "    .dataframe thead th {\n",
       "        text-align: right;\n",
       "    }\n",
       "</style>\n",
       "<table border=\"1\" class=\"dataframe\">\n",
       "  <thead>\n",
       "    <tr style=\"text-align: right;\">\n",
       "      <th></th>\n",
       "      <th>EXT1</th>\n",
       "      <th>EXT2</th>\n",
       "      <th>EXT3</th>\n",
       "      <th>EXT4</th>\n",
       "      <th>EXT5</th>\n",
       "      <th>EXT6</th>\n",
       "      <th>EXT7</th>\n",
       "      <th>EXT8</th>\n",
       "      <th>EXT9</th>\n",
       "      <th>EXT10</th>\n",
       "      <th>...</th>\n",
       "      <th>OPN7</th>\n",
       "      <th>OPN8</th>\n",
       "      <th>OPN9</th>\n",
       "      <th>OPN10</th>\n",
       "      <th>country</th>\n",
       "      <th>extraversion</th>\n",
       "      <th>emotional_stability</th>\n",
       "      <th>agreeableness</th>\n",
       "      <th>conscientiousness</th>\n",
       "      <th>openness</th>\n",
       "    </tr>\n",
       "  </thead>\n",
       "  <tbody>\n",
       "    <tr>\n",
       "      <th>0</th>\n",
       "      <td>4.0</td>\n",
       "      <td>1.0</td>\n",
       "      <td>5.0</td>\n",
       "      <td>2.0</td>\n",
       "      <td>5.0</td>\n",
       "      <td>1.0</td>\n",
       "      <td>5.0</td>\n",
       "      <td>2.0</td>\n",
       "      <td>4.0</td>\n",
       "      <td>1.0</td>\n",
       "      <td>...</td>\n",
       "      <td>5.0</td>\n",
       "      <td>3.0</td>\n",
       "      <td>4.0</td>\n",
       "      <td>5.0</td>\n",
       "      <td>GB</td>\n",
       "      <td>3.0</td>\n",
       "      <td>2.4</td>\n",
       "      <td>3.1</td>\n",
       "      <td>3.2</td>\n",
       "      <td>3.3</td>\n",
       "    </tr>\n",
       "    <tr>\n",
       "      <th>2</th>\n",
       "      <td>2.0</td>\n",
       "      <td>3.0</td>\n",
       "      <td>4.0</td>\n",
       "      <td>4.0</td>\n",
       "      <td>3.0</td>\n",
       "      <td>2.0</td>\n",
       "      <td>1.0</td>\n",
       "      <td>3.0</td>\n",
       "      <td>2.0</td>\n",
       "      <td>5.0</td>\n",
       "      <td>...</td>\n",
       "      <td>5.0</td>\n",
       "      <td>3.0</td>\n",
       "      <td>4.0</td>\n",
       "      <td>4.0</td>\n",
       "      <td>GB</td>\n",
       "      <td>2.9</td>\n",
       "      <td>2.6</td>\n",
       "      <td>2.8</td>\n",
       "      <td>2.8</td>\n",
       "      <td>3.1</td>\n",
       "    </tr>\n",
       "    <tr>\n",
       "      <th>3</th>\n",
       "      <td>2.0</td>\n",
       "      <td>2.0</td>\n",
       "      <td>2.0</td>\n",
       "      <td>3.0</td>\n",
       "      <td>4.0</td>\n",
       "      <td>2.0</td>\n",
       "      <td>2.0</td>\n",
       "      <td>4.0</td>\n",
       "      <td>1.0</td>\n",
       "      <td>4.0</td>\n",
       "      <td>...</td>\n",
       "      <td>4.0</td>\n",
       "      <td>4.0</td>\n",
       "      <td>3.0</td>\n",
       "      <td>3.0</td>\n",
       "      <td>GB</td>\n",
       "      <td>2.6</td>\n",
       "      <td>2.7</td>\n",
       "      <td>3.2</td>\n",
       "      <td>2.7</td>\n",
       "      <td>3.1</td>\n",
       "    </tr>\n",
       "    <tr>\n",
       "      <th>5</th>\n",
       "      <td>3.0</td>\n",
       "      <td>3.0</td>\n",
       "      <td>4.0</td>\n",
       "      <td>2.0</td>\n",
       "      <td>4.0</td>\n",
       "      <td>2.0</td>\n",
       "      <td>2.0</td>\n",
       "      <td>3.0</td>\n",
       "      <td>3.0</td>\n",
       "      <td>4.0</td>\n",
       "      <td>...</td>\n",
       "      <td>5.0</td>\n",
       "      <td>4.0</td>\n",
       "      <td>5.0</td>\n",
       "      <td>2.0</td>\n",
       "      <td>SE</td>\n",
       "      <td>3.0</td>\n",
       "      <td>2.2</td>\n",
       "      <td>2.8</td>\n",
       "      <td>2.9</td>\n",
       "      <td>3.2</td>\n",
       "    </tr>\n",
       "    <tr>\n",
       "      <th>8</th>\n",
       "      <td>2.0</td>\n",
       "      <td>2.0</td>\n",
       "      <td>3.0</td>\n",
       "      <td>3.0</td>\n",
       "      <td>4.0</td>\n",
       "      <td>2.0</td>\n",
       "      <td>2.0</td>\n",
       "      <td>2.0</td>\n",
       "      <td>4.0</td>\n",
       "      <td>4.0</td>\n",
       "      <td>...</td>\n",
       "      <td>5.0</td>\n",
       "      <td>2.0</td>\n",
       "      <td>5.0</td>\n",
       "      <td>5.0</td>\n",
       "      <td>GB</td>\n",
       "      <td>2.8</td>\n",
       "      <td>2.8</td>\n",
       "      <td>2.9</td>\n",
       "      <td>2.5</td>\n",
       "      <td>3.3</td>\n",
       "    </tr>\n",
       "    <tr>\n",
       "      <th>...</th>\n",
       "      <td>...</td>\n",
       "      <td>...</td>\n",
       "      <td>...</td>\n",
       "      <td>...</td>\n",
       "      <td>...</td>\n",
       "      <td>...</td>\n",
       "      <td>...</td>\n",
       "      <td>...</td>\n",
       "      <td>...</td>\n",
       "      <td>...</td>\n",
       "      <td>...</td>\n",
       "      <td>...</td>\n",
       "      <td>...</td>\n",
       "      <td>...</td>\n",
       "      <td>...</td>\n",
       "      <td>...</td>\n",
       "      <td>...</td>\n",
       "      <td>...</td>\n",
       "      <td>...</td>\n",
       "      <td>...</td>\n",
       "      <td>...</td>\n",
       "    </tr>\n",
       "    <tr>\n",
       "      <th>1015304</th>\n",
       "      <td>2.0</td>\n",
       "      <td>5.0</td>\n",
       "      <td>3.0</td>\n",
       "      <td>4.0</td>\n",
       "      <td>3.0</td>\n",
       "      <td>4.0</td>\n",
       "      <td>3.0</td>\n",
       "      <td>4.0</td>\n",
       "      <td>5.0</td>\n",
       "      <td>5.0</td>\n",
       "      <td>...</td>\n",
       "      <td>3.0</td>\n",
       "      <td>3.0</td>\n",
       "      <td>4.0</td>\n",
       "      <td>2.0</td>\n",
       "      <td>IT</td>\n",
       "      <td>3.8</td>\n",
       "      <td>2.5</td>\n",
       "      <td>2.7</td>\n",
       "      <td>2.9</td>\n",
       "      <td>2.9</td>\n",
       "    </tr>\n",
       "    <tr>\n",
       "      <th>1015317</th>\n",
       "      <td>1.0</td>\n",
       "      <td>1.0</td>\n",
       "      <td>5.0</td>\n",
       "      <td>2.0</td>\n",
       "      <td>5.0</td>\n",
       "      <td>1.0</td>\n",
       "      <td>1.0</td>\n",
       "      <td>1.0</td>\n",
       "      <td>5.0</td>\n",
       "      <td>1.0</td>\n",
       "      <td>...</td>\n",
       "      <td>4.0</td>\n",
       "      <td>2.0</td>\n",
       "      <td>1.0</td>\n",
       "      <td>3.0</td>\n",
       "      <td>GB</td>\n",
       "      <td>2.3</td>\n",
       "      <td>3.0</td>\n",
       "      <td>3.0</td>\n",
       "      <td>2.8</td>\n",
       "      <td>2.2</td>\n",
       "    </tr>\n",
       "    <tr>\n",
       "      <th>1015326</th>\n",
       "      <td>3.0</td>\n",
       "      <td>1.0</td>\n",
       "      <td>3.0</td>\n",
       "      <td>3.0</td>\n",
       "      <td>4.0</td>\n",
       "      <td>1.0</td>\n",
       "      <td>5.0</td>\n",
       "      <td>3.0</td>\n",
       "      <td>3.0</td>\n",
       "      <td>2.0</td>\n",
       "      <td>...</td>\n",
       "      <td>5.0</td>\n",
       "      <td>5.0</td>\n",
       "      <td>5.0</td>\n",
       "      <td>5.0</td>\n",
       "      <td>GB</td>\n",
       "      <td>2.8</td>\n",
       "      <td>2.9</td>\n",
       "      <td>3.2</td>\n",
       "      <td>3.4</td>\n",
       "      <td>3.8</td>\n",
       "    </tr>\n",
       "    <tr>\n",
       "      <th>1015329</th>\n",
       "      <td>3.0</td>\n",
       "      <td>2.0</td>\n",
       "      <td>4.0</td>\n",
       "      <td>3.0</td>\n",
       "      <td>4.0</td>\n",
       "      <td>2.0</td>\n",
       "      <td>2.0</td>\n",
       "      <td>3.0</td>\n",
       "      <td>3.0</td>\n",
       "      <td>4.0</td>\n",
       "      <td>...</td>\n",
       "      <td>4.0</td>\n",
       "      <td>2.0</td>\n",
       "      <td>5.0</td>\n",
       "      <td>5.0</td>\n",
       "      <td>GB</td>\n",
       "      <td>3.0</td>\n",
       "      <td>2.6</td>\n",
       "      <td>3.4</td>\n",
       "      <td>2.7</td>\n",
       "      <td>3.3</td>\n",
       "    </tr>\n",
       "    <tr>\n",
       "      <th>1015334</th>\n",
       "      <td>4.0</td>\n",
       "      <td>1.0</td>\n",
       "      <td>4.0</td>\n",
       "      <td>2.0</td>\n",
       "      <td>4.0</td>\n",
       "      <td>3.0</td>\n",
       "      <td>3.0</td>\n",
       "      <td>2.0</td>\n",
       "      <td>3.0</td>\n",
       "      <td>2.0</td>\n",
       "      <td>...</td>\n",
       "      <td>5.0</td>\n",
       "      <td>2.0</td>\n",
       "      <td>3.0</td>\n",
       "      <td>4.0</td>\n",
       "      <td>GB</td>\n",
       "      <td>2.8</td>\n",
       "      <td>2.8</td>\n",
       "      <td>3.6</td>\n",
       "      <td>3.2</td>\n",
       "      <td>3.4</td>\n",
       "    </tr>\n",
       "  </tbody>\n",
       "</table>\n",
       "<p>130301 rows × 56 columns</p>\n",
       "</div>"
      ],
      "text/plain": [
       "         EXT1  EXT2  EXT3  EXT4  EXT5  EXT6  EXT7  EXT8  EXT9  EXT10  ...  \\\n",
       "0         4.0   1.0   5.0   2.0   5.0   1.0   5.0   2.0   4.0    1.0  ...   \n",
       "2         2.0   3.0   4.0   4.0   3.0   2.0   1.0   3.0   2.0    5.0  ...   \n",
       "3         2.0   2.0   2.0   3.0   4.0   2.0   2.0   4.0   1.0    4.0  ...   \n",
       "5         3.0   3.0   4.0   2.0   4.0   2.0   2.0   3.0   3.0    4.0  ...   \n",
       "8         2.0   2.0   3.0   3.0   4.0   2.0   2.0   2.0   4.0    4.0  ...   \n",
       "...       ...   ...   ...   ...   ...   ...   ...   ...   ...    ...  ...   \n",
       "1015304   2.0   5.0   3.0   4.0   3.0   4.0   3.0   4.0   5.0    5.0  ...   \n",
       "1015317   1.0   1.0   5.0   2.0   5.0   1.0   1.0   1.0   5.0    1.0  ...   \n",
       "1015326   3.0   1.0   3.0   3.0   4.0   1.0   5.0   3.0   3.0    2.0  ...   \n",
       "1015329   3.0   2.0   4.0   3.0   4.0   2.0   2.0   3.0   3.0    4.0  ...   \n",
       "1015334   4.0   1.0   4.0   2.0   4.0   3.0   3.0   2.0   3.0    2.0  ...   \n",
       "\n",
       "         OPN7  OPN8  OPN9  OPN10  country  extraversion  emotional_stability  \\\n",
       "0         5.0   3.0   4.0    5.0       GB           3.0                  2.4   \n",
       "2         5.0   3.0   4.0    4.0       GB           2.9                  2.6   \n",
       "3         4.0   4.0   3.0    3.0       GB           2.6                  2.7   \n",
       "5         5.0   4.0   5.0    2.0       SE           3.0                  2.2   \n",
       "8         5.0   2.0   5.0    5.0       GB           2.8                  2.8   \n",
       "...       ...   ...   ...    ...      ...           ...                  ...   \n",
       "1015304   3.0   3.0   4.0    2.0       IT           3.8                  2.5   \n",
       "1015317   4.0   2.0   1.0    3.0       GB           2.3                  3.0   \n",
       "1015326   5.0   5.0   5.0    5.0       GB           2.8                  2.9   \n",
       "1015329   4.0   2.0   5.0    5.0       GB           3.0                  2.6   \n",
       "1015334   5.0   2.0   3.0    4.0       GB           2.8                  2.8   \n",
       "\n",
       "         agreeableness  conscientiousness  openness  \n",
       "0                  3.1                3.2       3.3  \n",
       "2                  2.8                2.8       3.1  \n",
       "3                  3.2                2.7       3.1  \n",
       "5                  2.8                2.9       3.2  \n",
       "8                  2.9                2.5       3.3  \n",
       "...                ...                ...       ...  \n",
       "1015304            2.7                2.9       2.9  \n",
       "1015317            3.0                2.8       2.2  \n",
       "1015326            3.2                3.4       3.8  \n",
       "1015329            3.4                2.7       3.3  \n",
       "1015334            3.6                3.2       3.4  \n",
       "\n",
       "[130301 rows x 56 columns]"
      ]
     },
     "execution_count": 33,
     "metadata": {},
     "output_type": "execute_result"
    }
   ],
   "source": [
    "df"
   ]
  },
  {
   "cell_type": "markdown",
   "metadata": {},
   "source": [
    "<b> MODEL : XGBOOST"
   ]
  },
  {
   "cell_type": "code",
   "execution_count": 34,
   "metadata": {},
   "outputs": [],
   "source": [
    "# Copy the dataframe\n",
    "df_ml = df\n",
    "\n",
    "# Add binary column to indicate if Great Britain \n",
    "df_ml['is_gb'] = df_ml['country'].apply(lambda x: 1 if x =='GB' else 0)\n",
    "\n",
    "# Delete old column indicating country\n",
    "df_ml = df_ml.drop(columns='country')\n",
    "\n",
    "# Shuffle the data to ensure that split is fair\n",
    "df_ml = df_ml.sample(n=len(df_ml),random_state=42)"
   ]
  },
  {
   "cell_type": "code",
   "execution_count": 35,
   "metadata": {},
   "outputs": [],
   "source": [
    "# Select the dependent variable\n",
    "Y = df_ml['is_gb']\n",
    "X = df_ml.drop('is_gb',axis=1)"
   ]
  },
  {
   "cell_type": "code",
   "execution_count": 36,
   "metadata": {},
   "outputs": [],
   "source": [
    "# Split the data into train and test\n",
    "X_train, X_test, y_train, y_test = train_test_split(X, Y, test_size=0.2, random_state=42)"
   ]
  },
  {
   "cell_type": "code",
   "execution_count": 37,
   "metadata": {},
   "outputs": [
    {
     "data": {
      "text/plain": [
       "XGBClassifier(base_score=0.5, booster=None, colsample_bylevel=1,\n",
       "              colsample_bynode=1, colsample_bytree=1, gamma=0, gpu_id=-1,\n",
       "              importance_type='gain', interaction_constraints=None,\n",
       "              learning_rate=0.1, max_delta_step=0, max_depth=6,\n",
       "              min_child_weight=1, missing=nan, monotone_constraints=None,\n",
       "              n_estimators=180, n_jobs=1, nthread=1, num_parallel_tree=1,\n",
       "              objective='binary:logistic', random_state=42, reg_alpha=0,\n",
       "              reg_lambda=1, scale_pos_weight=1, subsample=1, tree_method=None,\n",
       "              validate_parameters=False, verbosity=None)"
      ]
     },
     "execution_count": 37,
     "metadata": {},
     "output_type": "execute_result"
    }
   ],
   "source": [
    "# Instantiate the model\n",
    "model = XGBClassifier(learning_rate=0.1, max_depth=6,\n",
    "              min_child_weight=1,\n",
    "              n_estimators=180, \n",
    "              objective='binary:logistic', \n",
    "                random_state=42, nthread=1)\n",
    "\n",
    "# fit model to training data\n",
    "model.fit(X_train, y_train)"
   ]
  },
  {
   "cell_type": "code",
   "execution_count": 38,
   "metadata": {},
   "outputs": [
    {
     "name": "stdout",
     "output_type": "stream",
     "text": [
      "Accuracy: 69.03%\n"
     ]
    }
   ],
   "source": [
    "# make predictions for test data\n",
    "y_pred = model.predict(X_test)\n",
    "predictions = [round(value) for value in y_pred]\n",
    "\n",
    "# evaluate predictions\n",
    "accuracy = accuracy_score(y_test, predictions)\n",
    "print(\"Accuracy: %.2f%%\" % (accuracy * 100.0))"
   ]
  },
  {
   "cell_type": "code",
   "execution_count": 44,
   "metadata": {},
   "outputs": [
    {
     "name": "stdout",
     "output_type": "stream",
     "text": [
      "AUC for threshold 0.37 : 0.6631436299242484\n",
      "XGB Classifier accuracy: 65.78%\n",
      "AUC for threshold 0.38 : 0.664326253989359\n",
      "XGB Classifier accuracy: 66.39%\n",
      "AUC for threshold 0.39 : 0.6649735350257662\n",
      "XGB Classifier accuracy: 66.93%\n",
      "AUC for threshold 0.4 : 0.6644446638681132\n",
      "XGB Classifier accuracy: 67.31%\n",
      "AUC for threshold 0.41 : 0.6629485062996762\n",
      "XGB Classifier accuracy: 67.65%\n",
      "AUC for threshold 0.42 : 0.6610254870360062\n",
      "XGB Classifier accuracy: 67.91%\n",
      "AUC for threshold 0.43 : 0.6597333671786827\n",
      "XGB Classifier accuracy: 68.22%\n",
      "AUC for threshold 0.44 : 0.6578949612886302\n",
      "XGB Classifier accuracy: 68.46%\n",
      "AUC for threshold 0.55 : 0.6196947752894983\n",
      "XGB Classifier accuracy: 68.75%\n",
      "AUC for threshold 0.46 : 0.6519254727509243\n",
      "XGB Classifier accuracy: 68.70%\n",
      "AUC for threshold 0.47 : 0.6501846051903166\n",
      "XGB Classifier accuracy: 68.93%\n",
      "AUC for threshold 0.48 : 0.6457480671367294\n",
      "XGB Classifier accuracy: 68.87%\n",
      "AUC for threshold 0.49 : 0.6438450364675374\n",
      "XGB Classifier accuracy: 69.05%\n",
      "AUC for threshold 0.5 : 0.6401677832100165\n",
      "XGB Classifier accuracy: 69.03%\n"
     ]
    }
   ],
   "source": [
    "# Find optimal threshold\n",
    "thresholds=[0.37, 0.38, 0.39, 0.4, 0.41, 0.42, 0.43, 0.44, 0.55, 0.46, 0.47, 0.48, 0.49, 0.5]\n",
    "for t in thresholds:\n",
    "    predictions=model.predict_proba(X_test)[:,1]>t\n",
    "    print(\"AUC for threshold\",t,\":\",\n",
    "         roc_auc_score(y_test, predictions))\n",
    "    accuracy = accuracy_score(y_test, predictions)\n",
    "    print(\"XGB Classifier accuracy: %.2f%%\" % (accuracy * 100.0))"
   ]
  },
  {
   "cell_type": "code",
   "execution_count": 45,
   "metadata": {},
   "outputs": [
    {
     "data": {
      "text/plain": [
       "[('EST9', 40.26071294909095),\n",
       " ('CSN8', 39.128417838525614),\n",
       " ('AGR1', 34.86451489114784)]"
      ]
     },
     "execution_count": 45,
     "metadata": {},
     "output_type": "execute_result"
    }
   ],
   "source": [
    "# Check the most important features\n",
    "importance = model.get_booster().get_score(importance_type= 'gain')\n",
    "sorted(importance.items(), key=lambda x:x[1],reverse=True)[:3]"
   ]
  },
  {
   "cell_type": "code",
   "execution_count": 73,
   "metadata": {},
   "outputs": [
    {
     "data": {
      "text/html": [
       "<style  type=\"text/css\" >\n",
       "    #T_4a7ac5f6_6ac3_11ea_9108_acbc3288468frow0_col2 {\n",
       "            width:  10em;\n",
       "             height:  80%;\n",
       "            background:  linear-gradient(90deg, transparent 47.2%, #5fba7d 47.2%, #5fba7d 100.0%, transparent 100.0%);\n",
       "        }    #T_4a7ac5f6_6ac3_11ea_9108_acbc3288468frow1_col2 {\n",
       "            width:  10em;\n",
       "             height:  80%;\n",
       "            background:  linear-gradient(90deg, transparent 9.8%, #d65f5f 9.8%, #d65f5f 47.2%, transparent 47.2%);\n",
       "        }    #T_4a7ac5f6_6ac3_11ea_9108_acbc3288468frow2_col2 {\n",
       "            width:  10em;\n",
       "             height:  80%;\n",
       "            background:  linear-gradient(90deg,#d65f5f 47.2%, transparent 47.2%);\n",
       "        }</style><table id=\"T_4a7ac5f6_6ac3_11ea_9108_acbc3288468f\" ><thead>    <tr>        <th class=\"blank level0\" ></th>        <th class=\"col_heading level0 col0\" >gb_avg</th>        <th class=\"col_heading level0 col1\" >not_gb_avg</th>        <th class=\"col_heading level0 col2\" >value_difference</th>    </tr>    <tr>        <th class=\"index_name level0\" >personality</th>        <th class=\"blank\" ></th>        <th class=\"blank\" ></th>        <th class=\"blank\" ></th>    </tr></thead><tbody>\n",
       "                <tr>\n",
       "                        <th id=\"T_4a7ac5f6_6ac3_11ea_9108_acbc3288468flevel0_row0\" class=\"row_heading level0 row0\" >EST9</th>\n",
       "                        <td id=\"T_4a7ac5f6_6ac3_11ea_9108_acbc3288468frow0_col0\" class=\"data row0 col0\" >3.303145</td>\n",
       "                        <td id=\"T_4a7ac5f6_6ac3_11ea_9108_acbc3288468frow0_col1\" class=\"data row0 col1\" >2.994425</td>\n",
       "                        <td id=\"T_4a7ac5f6_6ac3_11ea_9108_acbc3288468frow0_col2\" class=\"data row0 col2\" >0.308720</td>\n",
       "            </tr>\n",
       "            <tr>\n",
       "                        <th id=\"T_4a7ac5f6_6ac3_11ea_9108_acbc3288468flevel0_row1\" class=\"row_heading level0 row1\" >CSN8</th>\n",
       "                        <td id=\"T_4a7ac5f6_6ac3_11ea_9108_acbc3288468frow1_col0\" class=\"data row1 col0\" >2.534794</td>\n",
       "                        <td id=\"T_4a7ac5f6_6ac3_11ea_9108_acbc3288468frow1_col1\" class=\"data row1 col1\" >2.753576</td>\n",
       "                        <td id=\"T_4a7ac5f6_6ac3_11ea_9108_acbc3288468frow1_col2\" class=\"data row1 col2\" >-0.218783</td>\n",
       "            </tr>\n",
       "            <tr>\n",
       "                        <th id=\"T_4a7ac5f6_6ac3_11ea_9108_acbc3288468flevel0_row2\" class=\"row_heading level0 row2\" >AGR1</th>\n",
       "                        <td id=\"T_4a7ac5f6_6ac3_11ea_9108_acbc3288468frow2_col0\" class=\"data row2 col0\" >2.183663</td>\n",
       "                        <td id=\"T_4a7ac5f6_6ac3_11ea_9108_acbc3288468frow2_col1\" class=\"data row2 col1\" >2.459621</td>\n",
       "                        <td id=\"T_4a7ac5f6_6ac3_11ea_9108_acbc3288468frow2_col2\" class=\"data row2 col2\" >-0.275957</td>\n",
       "            </tr>\n",
       "    </tbody></table>"
      ],
      "text/plain": [
       "<pandas.io.formats.style.Styler at 0x1a1ef9dbd0>"
      ]
     },
     "execution_count": 73,
     "metadata": {},
     "output_type": "execute_result"
    }
   ],
   "source": [
    "gb_df = df_ml.loc[df['is_gb']==1]\n",
    "not_gb_df = df_ml.loc[df['is_gb']==0]\n",
    "\n",
    "gb_df = transpose_table(gb_df,['EST9','CSN8','AGR1'])\n",
    "not_gb_df = transpose_table(not_gb_df,comp_metrics)\n",
    "comp_df = pd.merge(gb_df, not_gb_df, left_index=True, right_index=True)\n",
    "comp_df.columns = ['gb_avg','not_gb_avg']\n",
    "comp_df['value_difference'] = comp_df['gb_avg'] - comp_df['not_gb_avg']\n",
    "comp_df.style.bar(subset=['value_difference'], align='mid', color=['#d65f5f', '#5fba7d'])"
   ]
  },
  {
   "cell_type": "code",
   "execution_count": null,
   "metadata": {},
   "outputs": [],
   "source": [
    "# I get irritated easily.\n",
    "# I shirk my duties.\n",
    "# I feel little concern for others."
   ]
  },
  {
   "cell_type": "code",
   "execution_count": null,
   "metadata": {},
   "outputs": [],
   "source": []
  }
 ],
 "metadata": {
  "kernelspec": {
   "display_name": "Python 3",
   "language": "python",
   "name": "python3"
  },
  "language_info": {
   "codemirror_mode": {
    "name": "ipython",
    "version": 3
   },
   "file_extension": ".py",
   "mimetype": "text/x-python",
   "name": "python",
   "nbconvert_exporter": "python",
   "pygments_lexer": "ipython3",
   "version": "3.7.4"
  }
 },
 "nbformat": 4,
 "nbformat_minor": 4
}
