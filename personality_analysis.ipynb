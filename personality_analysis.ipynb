{
 "cells": [
  {
   "cell_type": "markdown",
   "metadata": {},
   "source": [
    "<b> IMPORTS"
   ]
  },
  {
   "cell_type": "code",
   "execution_count": 1,
   "metadata": {},
   "outputs": [],
   "source": [
    "import pandas as pd\n",
    "import matplotlib\n",
    "import matplotlib.pyplot as plt\n",
    "import seaborn as sns\n",
    "import numpy as np\n",
    "from collections import defaultdict\n",
    "from sklearn.model_selection import train_test_split\n",
    "from sklearn.metrics import accuracy_score\n",
    "from sklearn.metrics import roc_auc_score\n",
    "%matplotlib inline"
   ]
  },
  {
   "cell_type": "markdown",
   "metadata": {},
   "source": [
    "<b> INSPECT THE DATA"
   ]
  },
  {
   "cell_type": "code",
   "execution_count": 2,
   "metadata": {},
   "outputs": [
    {
     "data": {
      "text/plain": [
       "'3.1.3'"
      ]
     },
     "execution_count": 2,
     "metadata": {},
     "output_type": "execute_result"
    }
   ],
   "source": [
    "# Check the mpl version (3.1.1 causes issues with seaborn)\n",
    "matplotlib.__version__"
   ]
  },
  {
   "cell_type": "code",
   "execution_count": 3,
   "metadata": {},
   "outputs": [],
   "source": [
    "# command for readable pandas formatting\n",
    "pd.options.display.float_format = \"{:.2f}\".format"
   ]
  },
  {
   "cell_type": "code",
   "execution_count": 4,
   "metadata": {},
   "outputs": [],
   "source": [
    "# Load the data\n",
    "df = pd.read_csv('data-final.csv', sep='\\t')"
   ]
  },
  {
   "cell_type": "code",
   "execution_count": 5,
   "metadata": {},
   "outputs": [
    {
     "data": {
      "text/html": [
       "<div>\n",
       "<style scoped>\n",
       "    .dataframe tbody tr th:only-of-type {\n",
       "        vertical-align: middle;\n",
       "    }\n",
       "\n",
       "    .dataframe tbody tr th {\n",
       "        vertical-align: top;\n",
       "    }\n",
       "\n",
       "    .dataframe thead th {\n",
       "        text-align: right;\n",
       "    }\n",
       "</style>\n",
       "<table border=\"1\" class=\"dataframe\">\n",
       "  <thead>\n",
       "    <tr style=\"text-align: right;\">\n",
       "      <th></th>\n",
       "      <th>EXT1</th>\n",
       "      <th>EXT2</th>\n",
       "      <th>EXT3</th>\n",
       "      <th>EXT4</th>\n",
       "      <th>EXT5</th>\n",
       "      <th>EXT6</th>\n",
       "      <th>EXT7</th>\n",
       "      <th>EXT8</th>\n",
       "      <th>EXT9</th>\n",
       "      <th>EXT10</th>\n",
       "      <th>...</th>\n",
       "      <th>dateload</th>\n",
       "      <th>screenw</th>\n",
       "      <th>screenh</th>\n",
       "      <th>introelapse</th>\n",
       "      <th>testelapse</th>\n",
       "      <th>endelapse</th>\n",
       "      <th>IPC</th>\n",
       "      <th>country</th>\n",
       "      <th>lat_appx_lots_of_err</th>\n",
       "      <th>long_appx_lots_of_err</th>\n",
       "    </tr>\n",
       "  </thead>\n",
       "  <tbody>\n",
       "    <tr>\n",
       "      <th>0</th>\n",
       "      <td>4.00</td>\n",
       "      <td>1.00</td>\n",
       "      <td>5.00</td>\n",
       "      <td>2.00</td>\n",
       "      <td>5.00</td>\n",
       "      <td>1.00</td>\n",
       "      <td>5.00</td>\n",
       "      <td>2.00</td>\n",
       "      <td>4.00</td>\n",
       "      <td>1.00</td>\n",
       "      <td>...</td>\n",
       "      <td>2016-03-03 02:01:01</td>\n",
       "      <td>768.00</td>\n",
       "      <td>1024.00</td>\n",
       "      <td>9.00</td>\n",
       "      <td>234.00</td>\n",
       "      <td>6</td>\n",
       "      <td>1</td>\n",
       "      <td>GB</td>\n",
       "      <td>51.5448</td>\n",
       "      <td>0.1991</td>\n",
       "    </tr>\n",
       "  </tbody>\n",
       "</table>\n",
       "<p>1 rows × 110 columns</p>\n",
       "</div>"
      ],
      "text/plain": [
       "   EXT1  EXT2  EXT3  EXT4  EXT5  EXT6  EXT7  EXT8  EXT9  EXT10  ...  \\\n",
       "0  4.00  1.00  5.00  2.00  5.00  1.00  5.00  2.00  4.00   1.00  ...   \n",
       "\n",
       "              dateload  screenw  screenh  introelapse  testelapse  endelapse  \\\n",
       "0  2016-03-03 02:01:01   768.00  1024.00         9.00      234.00          6   \n",
       "\n",
       "   IPC  country  lat_appx_lots_of_err  long_appx_lots_of_err  \n",
       "0    1       GB               51.5448                 0.1991  \n",
       "\n",
       "[1 rows x 110 columns]"
      ]
     },
     "execution_count": 5,
     "metadata": {},
     "output_type": "execute_result"
    }
   ],
   "source": [
    "# Inspect the data\n",
    "df.head(1)"
   ]
  },
  {
   "cell_type": "code",
   "execution_count": 6,
   "metadata": {},
   "outputs": [
    {
     "name": "stdout",
     "output_type": "stream",
     "text": [
      "Number of rows: 1015341\n"
     ]
    }
   ],
   "source": [
    "# Inspect the data shape\n",
    "print('Number of rows:',df.shape[0])"
   ]
  },
  {
   "cell_type": "code",
   "execution_count": 7,
   "metadata": {},
   "outputs": [
    {
     "name": "stdout",
     "output_type": "stream",
     "text": [
      "Number of columns: 110  (numerical:106,  categorical:4)\n"
     ]
    }
   ],
   "source": [
    "# Classify the columns to categorical and numerical\n",
    "num_cols = df._get_numeric_data().columns\n",
    "cat_cols = [col for col in df.columns if col not in num_cols]\n",
    "print('Number of columns:',len(df.columns),\n",
    "      f' (numerical:{len(num_cols)},',\n",
    "      f' categorical:{len(cat_cols)})')"
   ]
  },
  {
   "cell_type": "markdown",
   "metadata": {},
   "source": [
    "<b> CLEAN THE DATA"
   ]
  },
  {
   "cell_type": "code",
   "execution_count": 8,
   "metadata": {},
   "outputs": [],
   "source": [
    "# First step of cleaning- IPC.\n",
    "# Limit the analysis to IPC =1 to get rid of duplicated submissions.\n",
    "\"\"\"\n",
    "As per Kaggle dataset description:\n",
    "The number of records from the user's IP address in the dataset. \n",
    "For max cleanliness, only use records where this value is 1. \n",
    "High values can be because of shared networks (e.g. entire universities) or multiple submissions\n",
    "\"\"\"\n",
    "df = df.loc[df['IPC']==1]"
   ]
  },
  {
   "cell_type": "code",
   "execution_count": 9,
   "metadata": {},
   "outputs": [],
   "source": [
    "# Get rid of invalid results \n",
    "# As the answers are in scale 1 to 5, we want to delete invalid inputs \n",
    "df = df.loc[(df[df.columns.tolist()[:49]] >= 1).all(axis=1)]"
   ]
  },
  {
   "cell_type": "code",
   "execution_count": 10,
   "metadata": {},
   "outputs": [],
   "source": [
    "# positive questions adding to the trait.\n",
    "pos_questions = [ \n",
    "    'EXT1','EXT3','EXT5','EXT7','EXT9',                       # 5\n",
    "    'EST1','EST3','EST5','EST6','EST7','EST8','EST9','EST10', # 8\n",
    "    'AGR2','AGR4','AGR6','AGR8','AGR9','AGR10',               # 6\n",
    "    'CSN1','CSN3','CSN5','CSN7','CSN9','CSN10',               # 6\n",
    "    'OPN1','OPN3','OPN5','OPN7','OPN8','OPN9','OPN10',        # 7\n",
    "]\n",
    "\n",
    "# negative (negating) questions subtracting from the trait.\n",
    "neg_questions = [ \n",
    "    'EXT2','EXT4','EXT6','EXT8','EXT10', # 5\n",
    "    'EST2','EST4',                       # 2\n",
    "    'AGR1','AGR3','AGR5','AGR7',         # 4\n",
    "    'CSN2','CSN4','CSN6','CSN8',         # 4\n",
    "    'OPN2','OPN4','OPN6',                # 3\n",
    "]\n",
    "\n",
    "df[pos_questions] = df[pos_questions].replace({1:-2, 2:-1, 3:0, 4:1, 5:2})\n",
    "df[neg_questions] = df[neg_questions].replace({1:2, 2:1, 3:0, 4:-1, 5:-2})"
   ]
  },
  {
   "cell_type": "code",
   "execution_count": 11,
   "metadata": {},
   "outputs": [
    {
     "data": {
      "text/plain": [
       "0.003193550682311204"
      ]
     },
     "execution_count": 11,
     "metadata": {},
     "output_type": "execute_result"
    }
   ],
   "source": [
    "# Check for missing data.\n",
    "df.isna().mean().sum()"
   ]
  },
  {
   "cell_type": "code",
   "execution_count": 12,
   "metadata": {},
   "outputs": [
    {
     "data": {
      "text/plain": [
       "0.0"
      ]
     },
     "execution_count": 12,
     "metadata": {},
     "output_type": "execute_result"
    }
   ],
   "source": [
    "df = df.dropna()\n",
    "df.isna().mean().sum()"
   ]
  },
  {
   "cell_type": "code",
   "execution_count": 13,
   "metadata": {},
   "outputs": [],
   "source": [
    "# columns with time spent answering questions\n",
    "qtime_cols = list(df.columns)[50:100]"
   ]
  },
  {
   "cell_type": "code",
   "execution_count": 14,
   "metadata": {},
   "outputs": [
    {
     "data": {
      "text/plain": [
       "('EXT1_E', 'OPN10_E')"
      ]
     },
     "execution_count": 14,
     "metadata": {},
     "output_type": "execute_result"
    }
   ],
   "source": [
    "# Check if selected correct columns\n",
    "qtime_cols[0], qtime_cols[-1]"
   ]
  },
  {
   "cell_type": "code",
   "execution_count": 15,
   "metadata": {},
   "outputs": [],
   "source": [
    "# Calculate the total time for each survey\n",
    "df['total_time']=df[qtime_cols].sum(axis=1)"
   ]
  },
  {
   "cell_type": "code",
   "execution_count": 16,
   "metadata": {},
   "outputs": [
    {
     "data": {
      "text/plain": [
       "count       603661.00\n",
       "mean        477107.67\n",
       "std        7805683.05\n",
       "min      -78732580.00\n",
       "25%         166858.00\n",
       "50%         215851.00\n",
       "75%         296094.00\n",
       "max     2147710653.00\n",
       "Name: total_time, dtype: float64"
      ]
     },
     "execution_count": 16,
     "metadata": {},
     "output_type": "execute_result"
    }
   ],
   "source": [
    "df['total_time'].describe()"
   ]
  },
  {
   "cell_type": "code",
   "execution_count": 17,
   "metadata": {},
   "outputs": [
    {
     "data": {
      "image/png": "[encoded data removed]",
      "text/plain": [
       "<Figure size 432x288 with 1 Axes>"
      ]
     },
     "metadata": {
      "needs_background": "light"
     },
     "output_type": "display_data"
    }
   ],
   "source": [
    "# Can't see anything due to large outliers\n",
    "ax = sns.distplot(df['total_time'])"
   ]
  },
  {
   "cell_type": "code",
   "execution_count": 18,
   "metadata": {},
   "outputs": [
    {
     "name": "stdout",
     "output_type": "stream",
     "text": [
      "Total respondents: 603661\n",
      "Slowest respondents: 0.025920177053014856\n",
      "Fastest respondents: 0.002668716382207895\n"
     ]
    }
   ],
   "source": [
    "# See how much data will be lost if we get rid of the outliers\n",
    "total_respondents = len(df)\n",
    "fast_respondents = len(df[df['total_time']<10000])\n",
    "slow_respondents = len(df[df['total_time']>1000000])\n",
    "\n",
    "print(\"Total respondents:\",total_respondents)\n",
    "print(\"Slowest respondents:\",slow_respondents/total_respondents)\n",
    "print(\"Fastest respondents:\",fast_respondents/total_respondents)"
   ]
  },
  {
   "cell_type": "code",
   "execution_count": 19,
   "metadata": {},
   "outputs": [],
   "source": [
    "df = df[df['total_time'].between(10000,1000000)]"
   ]
  },
  {
   "cell_type": "code",
   "execution_count": 20,
   "metadata": {},
   "outputs": [
    {
     "data": {
      "image/png": "[encoded data removed]",
      "text/plain": [
       "<Figure size 432x288 with 1 Axes>"
      ]
     },
     "metadata": {},
     "output_type": "display_data"
    }
   ],
   "source": [
    "from matplotlib import style\n",
    "style.use(\"seaborn-darkgrid\")\n",
    "df[['total_time']].plot(kind='hist',bins=20)\n",
    "plt.title('Test completion times')\n",
    "plt.show()"
   ]
  },
  {
   "cell_type": "code",
   "execution_count": 21,
   "metadata": {},
   "outputs": [],
   "source": [
    "# List the redundant cols such as longitude and latitudee\n",
    "drop_cols=list(df.columns[50:107])+['lat_appx_lots_of_err','long_appx_lots_of_err']"
   ]
  },
  {
   "cell_type": "code",
   "execution_count": 22,
   "metadata": {},
   "outputs": [],
   "source": [
    "# Drop the redundant cols\n",
    "df=df.drop((drop_cols), axis=1)"
   ]
  },
  {
   "cell_type": "code",
   "execution_count": 23,
   "metadata": {},
   "outputs": [
    {
     "data": {
      "text/html": [
       "<div>\n",
       "<style scoped>\n",
       "    .dataframe tbody tr th:only-of-type {\n",
       "        vertical-align: middle;\n",
       "    }\n",
       "\n",
       "    .dataframe tbody tr th {\n",
       "        vertical-align: top;\n",
       "    }\n",
       "\n",
       "    .dataframe thead th {\n",
       "        text-align: right;\n",
       "    }\n",
       "</style>\n",
       "<table border=\"1\" class=\"dataframe\">\n",
       "  <thead>\n",
       "    <tr style=\"text-align: right;\">\n",
       "      <th></th>\n",
       "      <th>EXT1</th>\n",
       "      <th>EXT2</th>\n",
       "      <th>EXT3</th>\n",
       "      <th>EXT4</th>\n",
       "      <th>EXT5</th>\n",
       "      <th>EXT6</th>\n",
       "      <th>EXT7</th>\n",
       "      <th>EXT8</th>\n",
       "      <th>EXT9</th>\n",
       "      <th>EXT10</th>\n",
       "      <th>...</th>\n",
       "      <th>OPN3</th>\n",
       "      <th>OPN4</th>\n",
       "      <th>OPN5</th>\n",
       "      <th>OPN6</th>\n",
       "      <th>OPN7</th>\n",
       "      <th>OPN8</th>\n",
       "      <th>OPN9</th>\n",
       "      <th>OPN10</th>\n",
       "      <th>country</th>\n",
       "      <th>total_time</th>\n",
       "    </tr>\n",
       "  </thead>\n",
       "  <tbody>\n",
       "    <tr>\n",
       "      <th>0</th>\n",
       "      <td>1.00</td>\n",
       "      <td>2.00</td>\n",
       "      <td>2.00</td>\n",
       "      <td>1.00</td>\n",
       "      <td>2.00</td>\n",
       "      <td>2.00</td>\n",
       "      <td>2.00</td>\n",
       "      <td>1.00</td>\n",
       "      <td>1.00</td>\n",
       "      <td>2.00</td>\n",
       "      <td>...</td>\n",
       "      <td>1.00</td>\n",
       "      <td>2.00</td>\n",
       "      <td>1.00</td>\n",
       "      <td>2.00</td>\n",
       "      <td>2.00</td>\n",
       "      <td>0.00</td>\n",
       "      <td>1.00</td>\n",
       "      <td>2.00</td>\n",
       "      <td>GB</td>\n",
       "      <td>232186.00</td>\n",
       "    </tr>\n",
       "    <tr>\n",
       "      <th>1</th>\n",
       "      <td>0.00</td>\n",
       "      <td>-2.00</td>\n",
       "      <td>0.00</td>\n",
       "      <td>-1.00</td>\n",
       "      <td>0.00</td>\n",
       "      <td>0.00</td>\n",
       "      <td>-1.00</td>\n",
       "      <td>-2.00</td>\n",
       "      <td>-2.00</td>\n",
       "      <td>-2.00</td>\n",
       "      <td>...</td>\n",
       "      <td>1.00</td>\n",
       "      <td>1.00</td>\n",
       "      <td>0.00</td>\n",
       "      <td>2.00</td>\n",
       "      <td>1.00</td>\n",
       "      <td>-1.00</td>\n",
       "      <td>2.00</td>\n",
       "      <td>0.00</td>\n",
       "      <td>MY</td>\n",
       "      <td>176901.00</td>\n",
       "    </tr>\n",
       "    <tr>\n",
       "      <th>2</th>\n",
       "      <td>-1.00</td>\n",
       "      <td>0.00</td>\n",
       "      <td>1.00</td>\n",
       "      <td>-1.00</td>\n",
       "      <td>0.00</td>\n",
       "      <td>1.00</td>\n",
       "      <td>-2.00</td>\n",
       "      <td>0.00</td>\n",
       "      <td>-1.00</td>\n",
       "      <td>-2.00</td>\n",
       "      <td>...</td>\n",
       "      <td>-1.00</td>\n",
       "      <td>2.00</td>\n",
       "      <td>1.00</td>\n",
       "      <td>1.00</td>\n",
       "      <td>2.00</td>\n",
       "      <td>0.00</td>\n",
       "      <td>1.00</td>\n",
       "      <td>1.00</td>\n",
       "      <td>GB</td>\n",
       "      <td>184540.00</td>\n",
       "    </tr>\n",
       "    <tr>\n",
       "      <th>3</th>\n",
       "      <td>-1.00</td>\n",
       "      <td>1.00</td>\n",
       "      <td>-1.00</td>\n",
       "      <td>0.00</td>\n",
       "      <td>1.00</td>\n",
       "      <td>1.00</td>\n",
       "      <td>-1.00</td>\n",
       "      <td>-1.00</td>\n",
       "      <td>-2.00</td>\n",
       "      <td>-1.00</td>\n",
       "      <td>...</td>\n",
       "      <td>2.00</td>\n",
       "      <td>1.00</td>\n",
       "      <td>0.00</td>\n",
       "      <td>2.00</td>\n",
       "      <td>1.00</td>\n",
       "      <td>1.00</td>\n",
       "      <td>0.00</td>\n",
       "      <td>0.00</td>\n",
       "      <td>GB</td>\n",
       "      <td>218262.00</td>\n",
       "    </tr>\n",
       "    <tr>\n",
       "      <th>5</th>\n",
       "      <td>0.00</td>\n",
       "      <td>0.00</td>\n",
       "      <td>1.00</td>\n",
       "      <td>1.00</td>\n",
       "      <td>1.00</td>\n",
       "      <td>1.00</td>\n",
       "      <td>-1.00</td>\n",
       "      <td>0.00</td>\n",
       "      <td>0.00</td>\n",
       "      <td>-1.00</td>\n",
       "      <td>...</td>\n",
       "      <td>2.00</td>\n",
       "      <td>2.00</td>\n",
       "      <td>0.00</td>\n",
       "      <td>2.00</td>\n",
       "      <td>2.00</td>\n",
       "      <td>1.00</td>\n",
       "      <td>2.00</td>\n",
       "      <td>-1.00</td>\n",
       "      <td>SE</td>\n",
       "      <td>192377.00</td>\n",
       "    </tr>\n",
       "    <tr>\n",
       "      <th>...</th>\n",
       "      <td>...</td>\n",
       "      <td>...</td>\n",
       "      <td>...</td>\n",
       "      <td>...</td>\n",
       "      <td>...</td>\n",
       "      <td>...</td>\n",
       "      <td>...</td>\n",
       "      <td>...</td>\n",
       "      <td>...</td>\n",
       "      <td>...</td>\n",
       "      <td>...</td>\n",
       "      <td>...</td>\n",
       "      <td>...</td>\n",
       "      <td>...</td>\n",
       "      <td>...</td>\n",
       "      <td>...</td>\n",
       "      <td>...</td>\n",
       "      <td>...</td>\n",
       "      <td>...</td>\n",
       "      <td>...</td>\n",
       "      <td>...</td>\n",
       "    </tr>\n",
       "    <tr>\n",
       "      <th>1015334</th>\n",
       "      <td>1.00</td>\n",
       "      <td>2.00</td>\n",
       "      <td>1.00</td>\n",
       "      <td>1.00</td>\n",
       "      <td>1.00</td>\n",
       "      <td>0.00</td>\n",
       "      <td>0.00</td>\n",
       "      <td>1.00</td>\n",
       "      <td>0.00</td>\n",
       "      <td>1.00</td>\n",
       "      <td>...</td>\n",
       "      <td>2.00</td>\n",
       "      <td>0.00</td>\n",
       "      <td>1.00</td>\n",
       "      <td>1.00</td>\n",
       "      <td>2.00</td>\n",
       "      <td>-1.00</td>\n",
       "      <td>0.00</td>\n",
       "      <td>1.00</td>\n",
       "      <td>GB</td>\n",
       "      <td>207093.00</td>\n",
       "    </tr>\n",
       "    <tr>\n",
       "      <th>1015335</th>\n",
       "      <td>2.00</td>\n",
       "      <td>2.00</td>\n",
       "      <td>2.00</td>\n",
       "      <td>1.00</td>\n",
       "      <td>1.00</td>\n",
       "      <td>1.00</td>\n",
       "      <td>0.00</td>\n",
       "      <td>2.00</td>\n",
       "      <td>2.00</td>\n",
       "      <td>2.00</td>\n",
       "      <td>...</td>\n",
       "      <td>1.00</td>\n",
       "      <td>1.00</td>\n",
       "      <td>0.00</td>\n",
       "      <td>1.00</td>\n",
       "      <td>2.00</td>\n",
       "      <td>0.00</td>\n",
       "      <td>1.00</td>\n",
       "      <td>1.00</td>\n",
       "      <td>TR</td>\n",
       "      <td>243426.00</td>\n",
       "    </tr>\n",
       "    <tr>\n",
       "      <th>1015337</th>\n",
       "      <td>1.00</td>\n",
       "      <td>0.00</td>\n",
       "      <td>1.00</td>\n",
       "      <td>0.00</td>\n",
       "      <td>0.00</td>\n",
       "      <td>0.00</td>\n",
       "      <td>1.00</td>\n",
       "      <td>-1.00</td>\n",
       "      <td>0.00</td>\n",
       "      <td>0.00</td>\n",
       "      <td>...</td>\n",
       "      <td>2.00</td>\n",
       "      <td>2.00</td>\n",
       "      <td>2.00</td>\n",
       "      <td>2.00</td>\n",
       "      <td>0.00</td>\n",
       "      <td>1.00</td>\n",
       "      <td>2.00</td>\n",
       "      <td>1.00</td>\n",
       "      <td>US</td>\n",
       "      <td>121746.00</td>\n",
       "    </tr>\n",
       "    <tr>\n",
       "      <th>1015339</th>\n",
       "      <td>-1.00</td>\n",
       "      <td>-1.00</td>\n",
       "      <td>0.00</td>\n",
       "      <td>-1.00</td>\n",
       "      <td>-1.00</td>\n",
       "      <td>1.00</td>\n",
       "      <td>-2.00</td>\n",
       "      <td>-1.00</td>\n",
       "      <td>-1.00</td>\n",
       "      <td>-1.00</td>\n",
       "      <td>...</td>\n",
       "      <td>1.00</td>\n",
       "      <td>1.00</td>\n",
       "      <td>0.00</td>\n",
       "      <td>1.00</td>\n",
       "      <td>1.00</td>\n",
       "      <td>2.00</td>\n",
       "      <td>2.00</td>\n",
       "      <td>0.00</td>\n",
       "      <td>US</td>\n",
       "      <td>211104.00</td>\n",
       "    </tr>\n",
       "    <tr>\n",
       "      <th>1015340</th>\n",
       "      <td>1.00</td>\n",
       "      <td>1.00</td>\n",
       "      <td>1.00</td>\n",
       "      <td>1.00</td>\n",
       "      <td>1.00</td>\n",
       "      <td>2.00</td>\n",
       "      <td>1.00</td>\n",
       "      <td>1.00</td>\n",
       "      <td>1.00</td>\n",
       "      <td>-1.00</td>\n",
       "      <td>...</td>\n",
       "      <td>2.00</td>\n",
       "      <td>2.00</td>\n",
       "      <td>0.00</td>\n",
       "      <td>2.00</td>\n",
       "      <td>2.00</td>\n",
       "      <td>1.00</td>\n",
       "      <td>2.00</td>\n",
       "      <td>2.00</td>\n",
       "      <td>US</td>\n",
       "      <td>174654.00</td>\n",
       "    </tr>\n",
       "  </tbody>\n",
       "</table>\n",
       "<p>586403 rows × 52 columns</p>\n",
       "</div>"
      ],
      "text/plain": [
       "         EXT1  EXT2  EXT3  EXT4  EXT5  EXT6  EXT7  EXT8  EXT9  EXT10  ...  \\\n",
       "0        1.00  2.00  2.00  1.00  2.00  2.00  2.00  1.00  1.00   2.00  ...   \n",
       "1        0.00 -2.00  0.00 -1.00  0.00  0.00 -1.00 -2.00 -2.00  -2.00  ...   \n",
       "2       -1.00  0.00  1.00 -1.00  0.00  1.00 -2.00  0.00 -1.00  -2.00  ...   \n",
       "3       -1.00  1.00 -1.00  0.00  1.00  1.00 -1.00 -1.00 -2.00  -1.00  ...   \n",
       "5        0.00  0.00  1.00  1.00  1.00  1.00 -1.00  0.00  0.00  -1.00  ...   \n",
       "...       ...   ...   ...   ...   ...   ...   ...   ...   ...    ...  ...   \n",
       "1015334  1.00  2.00  1.00  1.00  1.00  0.00  0.00  1.00  0.00   1.00  ...   \n",
       "1015335  2.00  2.00  2.00  1.00  1.00  1.00  0.00  2.00  2.00   2.00  ...   \n",
       "1015337  1.00  0.00  1.00  0.00  0.00  0.00  1.00 -1.00  0.00   0.00  ...   \n",
       "1015339 -1.00 -1.00  0.00 -1.00 -1.00  1.00 -2.00 -1.00 -1.00  -1.00  ...   \n",
       "1015340  1.00  1.00  1.00  1.00  1.00  2.00  1.00  1.00  1.00  -1.00  ...   \n",
       "\n",
       "         OPN3  OPN4  OPN5  OPN6  OPN7  OPN8  OPN9  OPN10  country  total_time  \n",
       "0        1.00  2.00  1.00  2.00  2.00  0.00  1.00   2.00       GB   232186.00  \n",
       "1        1.00  1.00  0.00  2.00  1.00 -1.00  2.00   0.00       MY   176901.00  \n",
       "2       -1.00  2.00  1.00  1.00  2.00  0.00  1.00   1.00       GB   184540.00  \n",
       "3        2.00  1.00  0.00  2.00  1.00  1.00  0.00   0.00       GB   218262.00  \n",
       "5        2.00  2.00  0.00  2.00  2.00  1.00  2.00  -1.00       SE   192377.00  \n",
       "...       ...   ...   ...   ...   ...   ...   ...    ...      ...         ...  \n",
       "1015334  2.00  0.00  1.00  1.00  2.00 -1.00  0.00   1.00       GB   207093.00  \n",
       "1015335  1.00  1.00  0.00  1.00  2.00  0.00  1.00   1.00       TR   243426.00  \n",
       "1015337  2.00  2.00  2.00  2.00  0.00  1.00  2.00   1.00       US   121746.00  \n",
       "1015339  1.00  1.00  0.00  1.00  1.00  2.00  2.00   0.00       US   211104.00  \n",
       "1015340  2.00  2.00  0.00  2.00  2.00  1.00  2.00   2.00       US   174654.00  \n",
       "\n",
       "[586403 rows x 52 columns]"
      ]
     },
     "execution_count": 23,
     "metadata": {},
     "output_type": "execute_result"
    }
   ],
   "source": [
    "df"
   ]
  },
  {
   "cell_type": "code",
   "execution_count": 24,
   "metadata": {},
   "outputs": [
    {
     "data": {
      "text/plain": [
       "220"
      ]
     },
     "execution_count": 24,
     "metadata": {},
     "output_type": "execute_result"
    }
   ],
   "source": [
    "# List the number of unique countries, count them\n",
    "countries = df['country'].unique()\n",
    "len(countries)"
   ]
  },
  {
   "cell_type": "code",
   "execution_count": 25,
   "metadata": {},
   "outputs": [
    {
     "data": {
      "text/plain": [
       "28"
      ]
     },
     "execution_count": 25,
     "metadata": {},
     "output_type": "execute_result"
    }
   ],
   "source": [
    "# A list of all EU countries, count them\n",
    "EU = [\"AT\", \"BE\", \"BG\", \"CY\", \"CZ\", \"DE\", \"DK\", \"EE\", \"ES\", \"FI\", \"FR\", \"GB\", \"GR\", \"HR\", \"HU\", \"IE\", \"IT\", \"LT\", \"LU\", \"LV\", \"MT\", \"NL\", \"PL\", \"PT\", \"RO\", \"SE\", \"SI\", \"SK\"]\n",
    "len(EU)"
   ]
  },
  {
   "cell_type": "code",
   "execution_count": 26,
   "metadata": {},
   "outputs": [
    {
     "data": {
      "text/plain": [
       "28"
      ]
     },
     "execution_count": 26,
     "metadata": {},
     "output_type": "execute_result"
    }
   ],
   "source": [
    "# Check if all EU countries are in the data\n",
    "intersection = set(EU).intersection(set(countries))\n",
    "len(intersection)"
   ]
  },
  {
   "cell_type": "code",
   "execution_count": 27,
   "metadata": {},
   "outputs": [],
   "source": [
    "# Limit the analysis to EU countries\n",
    "df = df.loc[df['country'].isin(EU)]"
   ]
  },
  {
   "cell_type": "code",
   "execution_count": 28,
   "metadata": {},
   "outputs": [
    {
     "data": {
      "text/plain": [
       "GB    42598\n",
       "DE    10575\n",
       "NL     6700\n",
       "SE     6344\n",
       "FR     4390\n",
       "Name: country, dtype: int64"
      ]
     },
     "execution_count": 28,
     "metadata": {},
     "output_type": "execute_result"
    }
   ],
   "source": [
    "# Count responses by country\n",
    "df['country'].value_counts()[:5]"
   ]
  },
  {
   "cell_type": "code",
   "execution_count": 29,
   "metadata": {},
   "outputs": [
    {
     "data": {
      "text/plain": [
       "GB   38.43\n",
       "DE    9.54\n",
       "NL    6.04\n",
       "SE    5.72\n",
       "FR    3.96\n",
       "IT    3.32\n",
       "ES    3.22\n",
       "PL    3.13\n",
       "IE    3.11\n",
       "FI    2.98\n",
       "DK    2.93\n",
       "RO    2.53\n",
       "BE    2.16\n",
       "PT    1.71\n",
       "GR    1.69\n",
       "AT    1.51\n",
       "HR    1.44\n",
       "CZ    1.19\n",
       "HU    1.02\n",
       "BG    0.87\n",
       "LT    0.72\n",
       "EE    0.65\n",
       "SK    0.61\n",
       "SI    0.57\n",
       "LV    0.36\n",
       "MT    0.25\n",
       "CY    0.18\n",
       "LU    0.15\n",
       "Name: country, dtype: float64"
      ]
     },
     "execution_count": 29,
     "metadata": {},
     "output_type": "execute_result"
    }
   ],
   "source": [
    "# This gives us percentage of responses from each country\n",
    "df['country'].value_counts(normalize=True) * 100"
   ]
  },
  {
   "cell_type": "code",
   "execution_count": 30,
   "metadata": {},
   "outputs": [
    {
     "data": {
      "text/html": [
       "<div>\n",
       "<style scoped>\n",
       "    .dataframe tbody tr th:only-of-type {\n",
       "        vertical-align: middle;\n",
       "    }\n",
       "\n",
       "    .dataframe tbody tr th {\n",
       "        vertical-align: top;\n",
       "    }\n",
       "\n",
       "    .dataframe thead th {\n",
       "        text-align: right;\n",
       "    }\n",
       "</style>\n",
       "<table border=\"1\" class=\"dataframe\">\n",
       "  <thead>\n",
       "    <tr style=\"text-align: right;\">\n",
       "      <th></th>\n",
       "      <th>EXT1</th>\n",
       "      <th>EXT2</th>\n",
       "      <th>EXT3</th>\n",
       "      <th>EXT4</th>\n",
       "      <th>EXT5</th>\n",
       "      <th>EXT6</th>\n",
       "      <th>EXT7</th>\n",
       "      <th>EXT8</th>\n",
       "      <th>EXT9</th>\n",
       "      <th>EXT10</th>\n",
       "      <th>...</th>\n",
       "      <th>OPN3</th>\n",
       "      <th>OPN4</th>\n",
       "      <th>OPN5</th>\n",
       "      <th>OPN6</th>\n",
       "      <th>OPN7</th>\n",
       "      <th>OPN8</th>\n",
       "      <th>OPN9</th>\n",
       "      <th>OPN10</th>\n",
       "      <th>country</th>\n",
       "      <th>total_time</th>\n",
       "    </tr>\n",
       "  </thead>\n",
       "  <tbody>\n",
       "    <tr>\n",
       "      <th>0</th>\n",
       "      <td>1.00</td>\n",
       "      <td>2.00</td>\n",
       "      <td>2.00</td>\n",
       "      <td>1.00</td>\n",
       "      <td>2.00</td>\n",
       "      <td>2.00</td>\n",
       "      <td>2.00</td>\n",
       "      <td>1.00</td>\n",
       "      <td>1.00</td>\n",
       "      <td>2.00</td>\n",
       "      <td>...</td>\n",
       "      <td>1.00</td>\n",
       "      <td>2.00</td>\n",
       "      <td>1.00</td>\n",
       "      <td>2.00</td>\n",
       "      <td>2.00</td>\n",
       "      <td>0.00</td>\n",
       "      <td>1.00</td>\n",
       "      <td>2.00</td>\n",
       "      <td>GB</td>\n",
       "      <td>232186.00</td>\n",
       "    </tr>\n",
       "    <tr>\n",
       "      <th>2</th>\n",
       "      <td>-1.00</td>\n",
       "      <td>0.00</td>\n",
       "      <td>1.00</td>\n",
       "      <td>-1.00</td>\n",
       "      <td>0.00</td>\n",
       "      <td>1.00</td>\n",
       "      <td>-2.00</td>\n",
       "      <td>0.00</td>\n",
       "      <td>-1.00</td>\n",
       "      <td>-2.00</td>\n",
       "      <td>...</td>\n",
       "      <td>-1.00</td>\n",
       "      <td>2.00</td>\n",
       "      <td>1.00</td>\n",
       "      <td>1.00</td>\n",
       "      <td>2.00</td>\n",
       "      <td>0.00</td>\n",
       "      <td>1.00</td>\n",
       "      <td>1.00</td>\n",
       "      <td>GB</td>\n",
       "      <td>184540.00</td>\n",
       "    </tr>\n",
       "    <tr>\n",
       "      <th>3</th>\n",
       "      <td>-1.00</td>\n",
       "      <td>1.00</td>\n",
       "      <td>-1.00</td>\n",
       "      <td>0.00</td>\n",
       "      <td>1.00</td>\n",
       "      <td>1.00</td>\n",
       "      <td>-1.00</td>\n",
       "      <td>-1.00</td>\n",
       "      <td>-2.00</td>\n",
       "      <td>-1.00</td>\n",
       "      <td>...</td>\n",
       "      <td>2.00</td>\n",
       "      <td>1.00</td>\n",
       "      <td>0.00</td>\n",
       "      <td>2.00</td>\n",
       "      <td>1.00</td>\n",
       "      <td>1.00</td>\n",
       "      <td>0.00</td>\n",
       "      <td>0.00</td>\n",
       "      <td>GB</td>\n",
       "      <td>218262.00</td>\n",
       "    </tr>\n",
       "    <tr>\n",
       "      <th>5</th>\n",
       "      <td>0.00</td>\n",
       "      <td>0.00</td>\n",
       "      <td>1.00</td>\n",
       "      <td>1.00</td>\n",
       "      <td>1.00</td>\n",
       "      <td>1.00</td>\n",
       "      <td>-1.00</td>\n",
       "      <td>0.00</td>\n",
       "      <td>0.00</td>\n",
       "      <td>-1.00</td>\n",
       "      <td>...</td>\n",
       "      <td>2.00</td>\n",
       "      <td>2.00</td>\n",
       "      <td>0.00</td>\n",
       "      <td>2.00</td>\n",
       "      <td>2.00</td>\n",
       "      <td>1.00</td>\n",
       "      <td>2.00</td>\n",
       "      <td>-1.00</td>\n",
       "      <td>SE</td>\n",
       "      <td>192377.00</td>\n",
       "    </tr>\n",
       "    <tr>\n",
       "      <th>9</th>\n",
       "      <td>-2.00</td>\n",
       "      <td>-2.00</td>\n",
       "      <td>0.00</td>\n",
       "      <td>-2.00</td>\n",
       "      <td>-1.00</td>\n",
       "      <td>0.00</td>\n",
       "      <td>-1.00</td>\n",
       "      <td>-1.00</td>\n",
       "      <td>2.00</td>\n",
       "      <td>-1.00</td>\n",
       "      <td>...</td>\n",
       "      <td>0.00</td>\n",
       "      <td>2.00</td>\n",
       "      <td>0.00</td>\n",
       "      <td>0.00</td>\n",
       "      <td>1.00</td>\n",
       "      <td>0.00</td>\n",
       "      <td>0.00</td>\n",
       "      <td>0.00</td>\n",
       "      <td>FI</td>\n",
       "      <td>249953.00</td>\n",
       "    </tr>\n",
       "  </tbody>\n",
       "</table>\n",
       "<p>5 rows × 52 columns</p>\n",
       "</div>"
      ],
      "text/plain": [
       "   EXT1  EXT2  EXT3  EXT4  EXT5  EXT6  EXT7  EXT8  EXT9  EXT10  ...  OPN3  \\\n",
       "0  1.00  2.00  2.00  1.00  2.00  2.00  2.00  1.00  1.00   2.00  ...  1.00   \n",
       "2 -1.00  0.00  1.00 -1.00  0.00  1.00 -2.00  0.00 -1.00  -2.00  ... -1.00   \n",
       "3 -1.00  1.00 -1.00  0.00  1.00  1.00 -1.00 -1.00 -2.00  -1.00  ...  2.00   \n",
       "5  0.00  0.00  1.00  1.00  1.00  1.00 -1.00  0.00  0.00  -1.00  ...  2.00   \n",
       "9 -2.00 -2.00  0.00 -2.00 -1.00  0.00 -1.00 -1.00  2.00  -1.00  ...  0.00   \n",
       "\n",
       "   OPN4  OPN5  OPN6  OPN7  OPN8  OPN9  OPN10  country  total_time  \n",
       "0  2.00  1.00  2.00  2.00  0.00  1.00   2.00       GB   232186.00  \n",
       "2  2.00  1.00  1.00  2.00  0.00  1.00   1.00       GB   184540.00  \n",
       "3  1.00  0.00  2.00  1.00  1.00  0.00   0.00       GB   218262.00  \n",
       "5  2.00  0.00  2.00  2.00  1.00  2.00  -1.00       SE   192377.00  \n",
       "9  2.00  0.00  0.00  1.00  0.00  0.00   0.00       FI   249953.00  \n",
       "\n",
       "[5 rows x 52 columns]"
      ]
     },
     "execution_count": 30,
     "metadata": {},
     "output_type": "execute_result"
    }
   ],
   "source": [
    "df.head()"
   ]
  },
  {
   "cell_type": "markdown",
   "metadata": {},
   "source": [
    "<b> FEATURE ENGINEERING"
   ]
  },
  {
   "cell_type": "code",
   "execution_count": 31,
   "metadata": {},
   "outputs": [],
   "source": [
    "# Create an aggregated feature for each of the five personality dimensions.\n",
    "# They will average the 10 answers across the dimension.\n",
    "\n",
    "# Extraversion \n",
    "EXT = list(df.columns[:10])\n",
    "# Emotional Stability\n",
    "EST = list(df.columns[10:20])\n",
    "# Agreeableness\n",
    "AGR = list(df.columns[20:30])\n",
    "# Conscientiousness\n",
    "CSN = list(df.columns[30:40])\n",
    "# Openness\n",
    "OPN = list(df.columns[40:50])\n",
    "\n",
    "dimensions = [EXT,EST,AGR,CSN,OPN]\n",
    "dimension_averages=[\"extraversion\",\"emotional_stability\",\n",
    "       \"agreeableness\",\"conscientiousness\",\"openness\"]"
   ]
  },
  {
   "cell_type": "code",
   "execution_count": 32,
   "metadata": {},
   "outputs": [
    {
     "name": "stderr",
     "output_type": "stream",
     "text": [
      "/Users/gajdulj/opt/anaconda3/envs/gajdulj/lib/python3.7/site-packages/ipykernel_launcher.py:2: SettingWithCopyWarning: \n",
      "A value is trying to be set on a copy of a slice from a DataFrame.\n",
      "Try using .loc[row_indexer,col_indexer] = value instead\n",
      "\n",
      "See the caveats in the documentation: https://pandas.pydata.org/pandas-docs/stable/user_guide/indexing.html#returning-a-view-versus-a-copy\n",
      "  \n"
     ]
    }
   ],
   "source": [
    "for d in range(len(dimensions)):\n",
    "    df[dimension_averages[d]] = df[dimensions[d]].mean(axis=1)"
   ]
  },
  {
   "cell_type": "markdown",
   "metadata": {},
   "source": [
    "<b> ANALYSE THE DATA"
   ]
  },
  {
   "cell_type": "code",
   "execution_count": 33,
   "metadata": {},
   "outputs": [
    {
     "data": {
      "text/html": [
       "<div>\n",
       "<style scoped>\n",
       "    .dataframe tbody tr th:only-of-type {\n",
       "        vertical-align: middle;\n",
       "    }\n",
       "\n",
       "    .dataframe tbody tr th {\n",
       "        vertical-align: top;\n",
       "    }\n",
       "\n",
       "    .dataframe thead th {\n",
       "        text-align: right;\n",
       "    }\n",
       "</style>\n",
       "<table border=\"1\" class=\"dataframe\">\n",
       "  <thead>\n",
       "    <tr style=\"text-align: right;\">\n",
       "      <th></th>\n",
       "      <th>EXT1</th>\n",
       "      <th>EXT2</th>\n",
       "      <th>EXT3</th>\n",
       "      <th>EXT4</th>\n",
       "      <th>EXT5</th>\n",
       "      <th>EXT6</th>\n",
       "      <th>EXT7</th>\n",
       "      <th>EXT8</th>\n",
       "      <th>EXT9</th>\n",
       "      <th>EXT10</th>\n",
       "      <th>...</th>\n",
       "      <th>OPN8</th>\n",
       "      <th>OPN9</th>\n",
       "      <th>OPN10</th>\n",
       "      <th>country</th>\n",
       "      <th>total_time</th>\n",
       "      <th>extraversion</th>\n",
       "      <th>emotional_stability</th>\n",
       "      <th>agreeableness</th>\n",
       "      <th>conscientiousness</th>\n",
       "      <th>openness</th>\n",
       "    </tr>\n",
       "  </thead>\n",
       "  <tbody>\n",
       "    <tr>\n",
       "      <th>0</th>\n",
       "      <td>1.00</td>\n",
       "      <td>2.00</td>\n",
       "      <td>2.00</td>\n",
       "      <td>1.00</td>\n",
       "      <td>2.00</td>\n",
       "      <td>2.00</td>\n",
       "      <td>2.00</td>\n",
       "      <td>1.00</td>\n",
       "      <td>1.00</td>\n",
       "      <td>2.00</td>\n",
       "      <td>...</td>\n",
       "      <td>0.00</td>\n",
       "      <td>1.00</td>\n",
       "      <td>2.00</td>\n",
       "      <td>GB</td>\n",
       "      <td>232186.00</td>\n",
       "      <td>1.60</td>\n",
       "      <td>-0.60</td>\n",
       "      <td>0.90</td>\n",
       "      <td>0.20</td>\n",
       "      <td>1.50</td>\n",
       "    </tr>\n",
       "  </tbody>\n",
       "</table>\n",
       "<p>1 rows × 57 columns</p>\n",
       "</div>"
      ],
      "text/plain": [
       "   EXT1  EXT2  EXT3  EXT4  EXT5  EXT6  EXT7  EXT8  EXT9  EXT10  ...  OPN8  \\\n",
       "0  1.00  2.00  2.00  1.00  2.00  2.00  2.00  1.00  1.00   2.00  ...  0.00   \n",
       "\n",
       "   OPN9  OPN10  country  total_time  extraversion  emotional_stability  \\\n",
       "0  1.00   2.00       GB   232186.00          1.60                -0.60   \n",
       "\n",
       "   agreeableness  conscientiousness  openness  \n",
       "0           0.90               0.20      1.50  \n",
       "\n",
       "[1 rows x 57 columns]"
      ]
     },
     "execution_count": 33,
     "metadata": {},
     "output_type": "execute_result"
    }
   ],
   "source": [
    "df.head(1)"
   ]
  },
  {
   "cell_type": "code",
   "execution_count": 34,
   "metadata": {},
   "outputs": [
    {
     "data": {
      "text/html": [
       "<div>\n",
       "<style scoped>\n",
       "    .dataframe tbody tr th:only-of-type {\n",
       "        vertical-align: middle;\n",
       "    }\n",
       "\n",
       "    .dataframe tbody tr th {\n",
       "        vertical-align: top;\n",
       "    }\n",
       "\n",
       "    .dataframe thead th {\n",
       "        text-align: right;\n",
       "    }\n",
       "</style>\n",
       "<table border=\"1\" class=\"dataframe\">\n",
       "  <thead>\n",
       "    <tr style=\"text-align: right;\">\n",
       "      <th></th>\n",
       "      <th>extraversion</th>\n",
       "      <th>emotional_stability</th>\n",
       "      <th>agreeableness</th>\n",
       "      <th>conscientiousness</th>\n",
       "      <th>openness</th>\n",
       "    </tr>\n",
       "  </thead>\n",
       "  <tbody>\n",
       "    <tr>\n",
       "      <th>count</th>\n",
       "      <td>110841.00</td>\n",
       "      <td>110841.00</td>\n",
       "      <td>110841.00</td>\n",
       "      <td>110841.00</td>\n",
       "      <td>110841.00</td>\n",
       "    </tr>\n",
       "    <tr>\n",
       "      <th>mean</th>\n",
       "      <td>-0.10</td>\n",
       "      <td>0.13</td>\n",
       "      <td>0.66</td>\n",
       "      <td>0.22</td>\n",
       "      <td>1.00</td>\n",
       "    </tr>\n",
       "    <tr>\n",
       "      <th>std</th>\n",
       "      <td>0.92</td>\n",
       "      <td>0.86</td>\n",
       "      <td>0.76</td>\n",
       "      <td>0.73</td>\n",
       "      <td>0.60</td>\n",
       "    </tr>\n",
       "    <tr>\n",
       "      <th>min</th>\n",
       "      <td>-2.00</td>\n",
       "      <td>-2.00</td>\n",
       "      <td>-2.00</td>\n",
       "      <td>-2.00</td>\n",
       "      <td>-2.00</td>\n",
       "    </tr>\n",
       "    <tr>\n",
       "      <th>25%</th>\n",
       "      <td>-0.80</td>\n",
       "      <td>-0.50</td>\n",
       "      <td>0.20</td>\n",
       "      <td>-0.30</td>\n",
       "      <td>0.60</td>\n",
       "    </tr>\n",
       "    <tr>\n",
       "      <th>50%</th>\n",
       "      <td>-0.10</td>\n",
       "      <td>0.20</td>\n",
       "      <td>0.80</td>\n",
       "      <td>0.20</td>\n",
       "      <td>1.10</td>\n",
       "    </tr>\n",
       "    <tr>\n",
       "      <th>75%</th>\n",
       "      <td>0.60</td>\n",
       "      <td>0.80</td>\n",
       "      <td>1.20</td>\n",
       "      <td>0.70</td>\n",
       "      <td>1.50</td>\n",
       "    </tr>\n",
       "    <tr>\n",
       "      <th>max</th>\n",
       "      <td>2.00</td>\n",
       "      <td>2.00</td>\n",
       "      <td>2.00</td>\n",
       "      <td>2.00</td>\n",
       "      <td>2.00</td>\n",
       "    </tr>\n",
       "  </tbody>\n",
       "</table>\n",
       "</div>"
      ],
      "text/plain": [
       "       extraversion  emotional_stability  agreeableness  conscientiousness  \\\n",
       "count     110841.00            110841.00      110841.00          110841.00   \n",
       "mean          -0.10                 0.13           0.66               0.22   \n",
       "std            0.92                 0.86           0.76               0.73   \n",
       "min           -2.00                -2.00          -2.00              -2.00   \n",
       "25%           -0.80                -0.50           0.20              -0.30   \n",
       "50%           -0.10                 0.20           0.80               0.20   \n",
       "75%            0.60                 0.80           1.20               0.70   \n",
       "max            2.00                 2.00           2.00               2.00   \n",
       "\n",
       "       openness  \n",
       "count 110841.00  \n",
       "mean       1.00  \n",
       "std        0.60  \n",
       "min       -2.00  \n",
       "25%        0.60  \n",
       "50%        1.10  \n",
       "75%        1.50  \n",
       "max        2.00  "
      ]
     },
     "execution_count": 34,
     "metadata": {},
     "output_type": "execute_result"
    }
   ],
   "source": [
    "# Analyse the aggregated features\n",
    "df[dimension_averages].describe()"
   ]
  },
  {
   "cell_type": "markdown",
   "metadata": {},
   "source": [
    "<b> VISUALISE THE DATA"
   ]
  },
  {
   "cell_type": "code",
   "execution_count": 35,
   "metadata": {},
   "outputs": [
    {
     "data": {
      "image/png": "[encoded data removed]",
      "text/plain": [
       "<Figure size 864x432 with 1 Axes>"
      ]
     },
     "metadata": {},
     "output_type": "display_data"
    }
   ],
   "source": [
    "# Use a boxlot to visualise the 5 variables\n",
    "# This method will give us a good overview of the distribution across the variables\n",
    "sns.set_style(\"darkgrid\")\n",
    "\n",
    "#reset default parameters\n",
    "sns.set()\n",
    "plt.figure(figsize=(12, 6))\n",
    "sns.set(font_scale=1.5)\n",
    "sns.boxplot(data=df[dimension_averages]);\n",
    "plt.title(\"Average characteristics of European citizens\",fontsize=22)\n",
    "plt.savefig('avg_char.png')\n",
    "plt.show()"
   ]
  },
  {
   "cell_type": "code",
   "execution_count": 36,
   "metadata": {},
   "outputs": [
    {
     "data": {
      "image/png": "[encoded data removed]",
      "text/plain": [
       "<Figure size 864x432 with 2 Axes>"
      ]
     },
     "metadata": {},
     "output_type": "display_data"
    }
   ],
   "source": [
    "#reset default parameters\n",
    "sns.set()\n",
    "plt.figure(figsize=(12, 6))\n",
    "\n",
    "# Visualise the correlation\n",
    "corr=df[dimension_averages].corr()\n",
    "mask = np.triu(corr)\n",
    "sns.set(font_scale=1.2)\n",
    "sns.heatmap(df[dimension_averages].corr(),\n",
    "            vmin=0,\n",
    "            vmax=1,\n",
    "            annot = True,\n",
    "            square=True, \n",
    "            mask=mask,\n",
    "            cbar=True,\n",
    "            cmap='Blues')\n",
    "plt.title('Correlation between personality traits',fontsize=22)\n",
    "plt.savefig('correlations.png')\n",
    "plt.show()"
   ]
  },
  {
   "cell_type": "code",
   "execution_count": 37,
   "metadata": {},
   "outputs": [],
   "source": [
    "# Subset df to only those with country GB, PL\n",
    "gb = df.loc[df['country']==\"GB\"]\n",
    "pl = df.loc[df['country']==\"PL\"]"
   ]
  },
  {
   "cell_type": "code",
   "execution_count": 38,
   "metadata": {},
   "outputs": [],
   "source": [
    "# Limit the analysis to two countries and averages across 5 dimensions\n",
    "gb = gb[gb.columns[-6:]]\n",
    "pl = pl[pl.columns[-6:]]"
   ]
  },
  {
   "cell_type": "code",
   "execution_count": 39,
   "metadata": {},
   "outputs": [],
   "source": [
    "def transpose_table(df, col_list):\n",
    "    \"\"\"\n",
    "    INPUT \n",
    "        df - a dataframe holding the col_list columns\n",
    "        col_list- columns that we want to transpose into rows\n",
    "        \n",
    "    OUTPUT\n",
    "        new_df- a transposed dataframe.\n",
    "    \"\"\"\n",
    "    new_df = defaultdict(int)\n",
    "    for i in col_list:\n",
    "        new_df[i]=df[i].mean()\n",
    "    new_df = pd.DataFrame(pd.Series(new_df)).reset_index()\n",
    "    new_df.rename(columns={'index': 'personality', 0: 'average'}, inplace=True)\n",
    "    new_df.set_index('personality', inplace=True)\n",
    "    return new_df "
   ]
  },
  {
   "cell_type": "code",
   "execution_count": 40,
   "metadata": {},
   "outputs": [
    {
     "data": {
      "text/plain": [
       "['extraversion',\n",
       " 'emotional_stability',\n",
       " 'agreeableness',\n",
       " 'conscientiousness',\n",
       " 'openness']"
      ]
     },
     "execution_count": 40,
     "metadata": {},
     "output_type": "execute_result"
    }
   ],
   "source": [
    "dimension_averages"
   ]
  },
  {
   "cell_type": "code",
   "execution_count": 41,
   "metadata": {},
   "outputs": [
    {
     "data": {
      "text/html": [
       "<style  type=\"text/css\" >\n",
       "    #T_12ddc60a_a58f_11ea_8ee6_acbc3288468frow0_col2 {\n",
       "            width:  10em;\n",
       "             height:  80%;\n",
       "            background:  linear-gradient(90deg, transparent 31.1%, #5fba7d 31.1%, #5fba7d 82.7%, transparent 82.7%);\n",
       "        }    #T_12ddc60a_a58f_11ea_8ee6_acbc3288468frow1_col2 {\n",
       "            width:  10em;\n",
       "             height:  80%;\n",
       "            background:  linear-gradient(90deg, transparent 11.6%, #d65f5f 11.6%, #d65f5f 31.1%, transparent 31.1%);\n",
       "        }    #T_12ddc60a_a58f_11ea_8ee6_acbc3288468frow2_col2 {\n",
       "            width:  10em;\n",
       "             height:  80%;\n",
       "            background:  linear-gradient(90deg, transparent 31.1%, #5fba7d 31.1%, #5fba7d 100.0%, transparent 100.0%);\n",
       "        }    #T_12ddc60a_a58f_11ea_8ee6_acbc3288468frow3_col2 {\n",
       "            width:  10em;\n",
       "             height:  80%;\n",
       "            background:  linear-gradient(90deg, transparent 31.1%, #5fba7d 31.1%, #5fba7d 59.0%, transparent 59.0%);\n",
       "        }    #T_12ddc60a_a58f_11ea_8ee6_acbc3288468frow4_col2 {\n",
       "            width:  10em;\n",
       "             height:  80%;\n",
       "            background:  linear-gradient(90deg,#d65f5f 31.1%, transparent 31.1%);\n",
       "        }</style><table id=\"T_12ddc60a_a58f_11ea_8ee6_acbc3288468f\" ><thead>    <tr>        <th class=\"blank level0\" ></th>        <th class=\"col_heading level0 col0\" >gb_avg</th>        <th class=\"col_heading level0 col1\" >pl_avg</th>        <th class=\"col_heading level0 col2\" >value_difference</th>    </tr>    <tr>        <th class=\"index_name level0\" >personality</th>        <th class=\"blank\" ></th>        <th class=\"blank\" ></th>        <th class=\"blank\" ></th>    </tr></thead><tbody>\n",
       "                <tr>\n",
       "                        <th id=\"T_12ddc60a_a58f_11ea_8ee6_acbc3288468flevel0_row0\" class=\"row_heading level0 row0\" >extraversion</th>\n",
       "                        <td id=\"T_12ddc60a_a58f_11ea_8ee6_acbc3288468frow0_col0\" class=\"data row0 col0\" >-0.081715</td>\n",
       "                        <td id=\"T_12ddc60a_a58f_11ea_8ee6_acbc3288468frow0_col1\" class=\"data row0 col1\" >-0.311432</td>\n",
       "                        <td id=\"T_12ddc60a_a58f_11ea_8ee6_acbc3288468frow0_col2\" class=\"data row0 col2\" >0.229717</td>\n",
       "            </tr>\n",
       "            <tr>\n",
       "                        <th id=\"T_12ddc60a_a58f_11ea_8ee6_acbc3288468flevel0_row1\" class=\"row_heading level0 row1\" >emotional_stability</th>\n",
       "                        <td id=\"T_12ddc60a_a58f_11ea_8ee6_acbc3288468frow1_col0\" class=\"data row1 col0\" >0.188626</td>\n",
       "                        <td id=\"T_12ddc60a_a58f_11ea_8ee6_acbc3288468frow1_col1\" class=\"data row1 col1\" >0.275433</td>\n",
       "                        <td id=\"T_12ddc60a_a58f_11ea_8ee6_acbc3288468frow1_col2\" class=\"data row1 col2\" >-0.086807</td>\n",
       "            </tr>\n",
       "            <tr>\n",
       "                        <th id=\"T_12ddc60a_a58f_11ea_8ee6_acbc3288468flevel0_row2\" class=\"row_heading level0 row2\" >agreeableness</th>\n",
       "                        <td id=\"T_12ddc60a_a58f_11ea_8ee6_acbc3288468frow2_col0\" class=\"data row2 col0\" >0.690457</td>\n",
       "                        <td id=\"T_12ddc60a_a58f_11ea_8ee6_acbc3288468frow2_col1\" class=\"data row2 col1\" >0.383863</td>\n",
       "                        <td id=\"T_12ddc60a_a58f_11ea_8ee6_acbc3288468frow2_col2\" class=\"data row2 col2\" >0.306595</td>\n",
       "            </tr>\n",
       "            <tr>\n",
       "                        <th id=\"T_12ddc60a_a58f_11ea_8ee6_acbc3288468flevel0_row3\" class=\"row_heading level0 row3\" >conscientiousness</th>\n",
       "                        <td id=\"T_12ddc60a_a58f_11ea_8ee6_acbc3288468frow3_col0\" class=\"data row3 col0\" >0.228640</td>\n",
       "                        <td id=\"T_12ddc60a_a58f_11ea_8ee6_acbc3288468frow3_col1\" class=\"data row3 col1\" >0.104619</td>\n",
       "                        <td id=\"T_12ddc60a_a58f_11ea_8ee6_acbc3288468frow3_col2\" class=\"data row3 col2\" >0.124021</td>\n",
       "            </tr>\n",
       "            <tr>\n",
       "                        <th id=\"T_12ddc60a_a58f_11ea_8ee6_acbc3288468flevel0_row4\" class=\"row_heading level0 row4\" >openness</th>\n",
       "                        <td id=\"T_12ddc60a_a58f_11ea_8ee6_acbc3288468frow4_col0\" class=\"data row4 col0\" >0.952033</td>\n",
       "                        <td id=\"T_12ddc60a_a58f_11ea_8ee6_acbc3288468frow4_col1\" class=\"data row4 col1\" >1.090300</td>\n",
       "                        <td id=\"T_12ddc60a_a58f_11ea_8ee6_acbc3288468frow4_col2\" class=\"data row4 col2\" >-0.138267</td>\n",
       "            </tr>\n",
       "    </tbody></table>"
      ],
      "text/plain": [
       "<pandas.io.formats.style.Styler at 0x7ff19ac63510>"
      ]
     },
     "execution_count": 41,
     "metadata": {},
     "output_type": "execute_result"
    }
   ],
   "source": [
    "gb_avg = transpose_table(gb,dimension_averages)\n",
    "pl_avg = transpose_table(pl,dimension_averages)\n",
    "comp_df = pd.merge(gb_avg, pl_avg, left_index=True, right_index=True)\n",
    "comp_df.columns = ['gb_avg', 'pl_avg']\n",
    "comp_df['value_difference'] = comp_df['gb_avg'] - comp_df['pl_avg']\n",
    "comp_df.style.bar(subset=['value_difference'], align='mid', color=['#d65f5f', '#5fba7d'])"
   ]
  },
  {
   "cell_type": "code",
   "execution_count": 42,
   "metadata": {},
   "outputs": [
    {
     "data": {
      "text/html": [
       "<div>\n",
       "<style scoped>\n",
       "    .dataframe tbody tr th:only-of-type {\n",
       "        vertical-align: middle;\n",
       "    }\n",
       "\n",
       "    .dataframe tbody tr th {\n",
       "        vertical-align: top;\n",
       "    }\n",
       "\n",
       "    .dataframe thead th {\n",
       "        text-align: right;\n",
       "    }\n",
       "</style>\n",
       "<table border=\"1\" class=\"dataframe\">\n",
       "  <thead>\n",
       "    <tr style=\"text-align: right;\">\n",
       "      <th></th>\n",
       "      <th>EXT1</th>\n",
       "      <th>EXT2</th>\n",
       "      <th>EXT3</th>\n",
       "      <th>EXT4</th>\n",
       "      <th>EXT5</th>\n",
       "      <th>EXT6</th>\n",
       "      <th>EXT7</th>\n",
       "      <th>EXT8</th>\n",
       "      <th>EXT9</th>\n",
       "      <th>EXT10</th>\n",
       "      <th>...</th>\n",
       "      <th>OPN8</th>\n",
       "      <th>OPN9</th>\n",
       "      <th>OPN10</th>\n",
       "      <th>country</th>\n",
       "      <th>total_time</th>\n",
       "      <th>extraversion</th>\n",
       "      <th>emotional_stability</th>\n",
       "      <th>agreeableness</th>\n",
       "      <th>conscientiousness</th>\n",
       "      <th>openness</th>\n",
       "    </tr>\n",
       "  </thead>\n",
       "  <tbody>\n",
       "    <tr>\n",
       "      <th>0</th>\n",
       "      <td>1.00</td>\n",
       "      <td>2.00</td>\n",
       "      <td>2.00</td>\n",
       "      <td>1.00</td>\n",
       "      <td>2.00</td>\n",
       "      <td>2.00</td>\n",
       "      <td>2.00</td>\n",
       "      <td>1.00</td>\n",
       "      <td>1.00</td>\n",
       "      <td>2.00</td>\n",
       "      <td>...</td>\n",
       "      <td>0.00</td>\n",
       "      <td>1.00</td>\n",
       "      <td>2.00</td>\n",
       "      <td>GB</td>\n",
       "      <td>232186.00</td>\n",
       "      <td>1.60</td>\n",
       "      <td>-0.60</td>\n",
       "      <td>0.90</td>\n",
       "      <td>0.20</td>\n",
       "      <td>1.50</td>\n",
       "    </tr>\n",
       "    <tr>\n",
       "      <th>2</th>\n",
       "      <td>-1.00</td>\n",
       "      <td>0.00</td>\n",
       "      <td>1.00</td>\n",
       "      <td>-1.00</td>\n",
       "      <td>0.00</td>\n",
       "      <td>1.00</td>\n",
       "      <td>-2.00</td>\n",
       "      <td>0.00</td>\n",
       "      <td>-1.00</td>\n",
       "      <td>-2.00</td>\n",
       "      <td>...</td>\n",
       "      <td>0.00</td>\n",
       "      <td>1.00</td>\n",
       "      <td>1.00</td>\n",
       "      <td>GB</td>\n",
       "      <td>184540.00</td>\n",
       "      <td>-0.50</td>\n",
       "      <td>-0.40</td>\n",
       "      <td>1.20</td>\n",
       "      <td>0.40</td>\n",
       "      <td>1.10</td>\n",
       "    </tr>\n",
       "    <tr>\n",
       "      <th>3</th>\n",
       "      <td>-1.00</td>\n",
       "      <td>1.00</td>\n",
       "      <td>-1.00</td>\n",
       "      <td>0.00</td>\n",
       "      <td>1.00</td>\n",
       "      <td>1.00</td>\n",
       "      <td>-1.00</td>\n",
       "      <td>-1.00</td>\n",
       "      <td>-2.00</td>\n",
       "      <td>-1.00</td>\n",
       "      <td>...</td>\n",
       "      <td>1.00</td>\n",
       "      <td>0.00</td>\n",
       "      <td>0.00</td>\n",
       "      <td>GB</td>\n",
       "      <td>218262.00</td>\n",
       "      <td>-0.40</td>\n",
       "      <td>-0.10</td>\n",
       "      <td>0.80</td>\n",
       "      <td>-0.50</td>\n",
       "      <td>0.90</td>\n",
       "    </tr>\n",
       "    <tr>\n",
       "      <th>5</th>\n",
       "      <td>0.00</td>\n",
       "      <td>0.00</td>\n",
       "      <td>1.00</td>\n",
       "      <td>1.00</td>\n",
       "      <td>1.00</td>\n",
       "      <td>1.00</td>\n",
       "      <td>-1.00</td>\n",
       "      <td>0.00</td>\n",
       "      <td>0.00</td>\n",
       "      <td>-1.00</td>\n",
       "      <td>...</td>\n",
       "      <td>1.00</td>\n",
       "      <td>2.00</td>\n",
       "      <td>-1.00</td>\n",
       "      <td>SE</td>\n",
       "      <td>192377.00</td>\n",
       "      <td>0.20</td>\n",
       "      <td>-0.80</td>\n",
       "      <td>0.80</td>\n",
       "      <td>0.70</td>\n",
       "      <td>1.40</td>\n",
       "    </tr>\n",
       "    <tr>\n",
       "      <th>9</th>\n",
       "      <td>-2.00</td>\n",
       "      <td>-2.00</td>\n",
       "      <td>0.00</td>\n",
       "      <td>-2.00</td>\n",
       "      <td>-1.00</td>\n",
       "      <td>0.00</td>\n",
       "      <td>-1.00</td>\n",
       "      <td>-1.00</td>\n",
       "      <td>2.00</td>\n",
       "      <td>-1.00</td>\n",
       "      <td>...</td>\n",
       "      <td>0.00</td>\n",
       "      <td>0.00</td>\n",
       "      <td>0.00</td>\n",
       "      <td>FI</td>\n",
       "      <td>249953.00</td>\n",
       "      <td>-0.80</td>\n",
       "      <td>0.10</td>\n",
       "      <td>-1.10</td>\n",
       "      <td>-1.30</td>\n",
       "      <td>0.50</td>\n",
       "    </tr>\n",
       "  </tbody>\n",
       "</table>\n",
       "<p>5 rows × 57 columns</p>\n",
       "</div>"
      ],
      "text/plain": [
       "   EXT1  EXT2  EXT3  EXT4  EXT5  EXT6  EXT7  EXT8  EXT9  EXT10  ...  OPN8  \\\n",
       "0  1.00  2.00  2.00  1.00  2.00  2.00  2.00  1.00  1.00   2.00  ...  0.00   \n",
       "2 -1.00  0.00  1.00 -1.00  0.00  1.00 -2.00  0.00 -1.00  -2.00  ...  0.00   \n",
       "3 -1.00  1.00 -1.00  0.00  1.00  1.00 -1.00 -1.00 -2.00  -1.00  ...  1.00   \n",
       "5  0.00  0.00  1.00  1.00  1.00  1.00 -1.00  0.00  0.00  -1.00  ...  1.00   \n",
       "9 -2.00 -2.00  0.00 -2.00 -1.00  0.00 -1.00 -1.00  2.00  -1.00  ...  0.00   \n",
       "\n",
       "   OPN9  OPN10  country  total_time  extraversion  emotional_stability  \\\n",
       "0  1.00   2.00       GB   232186.00          1.60                -0.60   \n",
       "2  1.00   1.00       GB   184540.00         -0.50                -0.40   \n",
       "3  0.00   0.00       GB   218262.00         -0.40                -0.10   \n",
       "5  2.00  -1.00       SE   192377.00          0.20                -0.80   \n",
       "9  0.00   0.00       FI   249953.00         -0.80                 0.10   \n",
       "\n",
       "   agreeableness  conscientiousness  openness  \n",
       "0           0.90               0.20      1.50  \n",
       "2           1.20               0.40      1.10  \n",
       "3           0.80              -0.50      0.90  \n",
       "5           0.80               0.70      1.40  \n",
       "9          -1.10              -1.30      0.50  \n",
       "\n",
       "[5 rows x 57 columns]"
      ]
     },
     "execution_count": 42,
     "metadata": {},
     "output_type": "execute_result"
    }
   ],
   "source": [
    "df.head()"
   ]
  },
  {
   "cell_type": "code",
   "execution_count": 43,
   "metadata": {},
   "outputs": [
    {
     "name": "stderr",
     "output_type": "stream",
     "text": [
      "/Users/gajdulj/opt/anaconda3/envs/gajdulj/lib/python3.7/site-packages/ipykernel_launcher.py:2: SettingWithCopyWarning: \n",
      "A value is trying to be set on a copy of a slice from a DataFrame.\n",
      "Try using .loc[row_indexer,col_indexer] = value instead\n",
      "\n",
      "See the caveats in the documentation: https://pandas.pydata.org/pandas-docs/stable/user_guide/indexing.html#returning-a-view-versus-a-copy\n",
      "  \n"
     ]
    }
   ],
   "source": [
    "# Add binary column to indicate if Great Britain \n",
    "df['is_gb'] = df['country'].apply(lambda x: 1 if x =='GB' else 0)"
   ]
  },
  {
   "cell_type": "markdown",
   "metadata": {},
   "source": [
    "<b> MODELLING"
   ]
  },
  {
   "cell_type": "code",
   "execution_count": 44,
   "metadata": {},
   "outputs": [],
   "source": [
    "# Copy the dataframe\n",
    "df_ml = df.copy()\n",
    "\n",
    "to_drop =[\"country\",\"total_time\"]\n",
    "          #+[\"extraversion\",\"emotional_stability\",\"agreeableness\",\"conscientiousness\",\"openness\"]\n",
    "    \n",
    "# Delete old column indicating country\n",
    "df_ml = df_ml.drop(columns=to_drop)\n",
    "\n",
    "# Shuffle the data to ensure that split is fair\n",
    "df_ml = df_ml.sample(n=len(df_ml),random_state=42)"
   ]
  },
  {
   "cell_type": "markdown",
   "metadata": {},
   "source": [
    "<b> CORRELATIONS"
   ]
  },
  {
   "cell_type": "code",
   "execution_count": 45,
   "metadata": {},
   "outputs": [],
   "source": [
    "corr_data = pd.DataFrame(df_ml.corr()['is_gb'][:])"
   ]
  },
  {
   "cell_type": "code",
   "execution_count": 46,
   "metadata": {},
   "outputs": [],
   "source": [
    "corr_data = corr_data.reset_index()"
   ]
  },
  {
   "cell_type": "code",
   "execution_count": 47,
   "metadata": {},
   "outputs": [],
   "source": [
    "corr_data = corr_data.sort_values(by=['is_gb'])"
   ]
  },
  {
   "cell_type": "code",
   "execution_count": 48,
   "metadata": {},
   "outputs": [
    {
     "data": {
      "text/html": [
       "<div>\n",
       "<style scoped>\n",
       "    .dataframe tbody tr th:only-of-type {\n",
       "        vertical-align: middle;\n",
       "    }\n",
       "\n",
       "    .dataframe tbody tr th {\n",
       "        vertical-align: top;\n",
       "    }\n",
       "\n",
       "    .dataframe thead th {\n",
       "        text-align: right;\n",
       "    }\n",
       "</style>\n",
       "<table border=\"1\" class=\"dataframe\">\n",
       "  <thead>\n",
       "    <tr style=\"text-align: right;\">\n",
       "      <th></th>\n",
       "      <th>index</th>\n",
       "      <th>is_gb</th>\n",
       "    </tr>\n",
       "  </thead>\n",
       "  <tbody>\n",
       "    <tr>\n",
       "      <th>22</th>\n",
       "      <td>AGR3</td>\n",
       "      <td>-0.09</td>\n",
       "    </tr>\n",
       "    <tr>\n",
       "      <th>54</th>\n",
       "      <td>openness</td>\n",
       "      <td>-0.07</td>\n",
       "    </tr>\n",
       "    <tr>\n",
       "      <th>46</th>\n",
       "      <td>OPN7</td>\n",
       "      <td>-0.07</td>\n",
       "    </tr>\n",
       "  </tbody>\n",
       "</table>\n",
       "</div>"
      ],
      "text/plain": [
       "       index  is_gb\n",
       "22      AGR3  -0.09\n",
       "54  openness  -0.07\n",
       "46      OPN7  -0.07"
      ]
     },
     "execution_count": 48,
     "metadata": {},
     "output_type": "execute_result"
    }
   ],
   "source": [
    "corr_data[:3]"
   ]
  },
  {
   "cell_type": "code",
   "execution_count": 49,
   "metadata": {},
   "outputs": [
    {
     "data": {
      "text/html": [
       "<div>\n",
       "<style scoped>\n",
       "    .dataframe tbody tr th:only-of-type {\n",
       "        vertical-align: middle;\n",
       "    }\n",
       "\n",
       "    .dataframe tbody tr th {\n",
       "        vertical-align: top;\n",
       "    }\n",
       "\n",
       "    .dataframe thead th {\n",
       "        text-align: right;\n",
       "    }\n",
       "</style>\n",
       "<table border=\"1\" class=\"dataframe\">\n",
       "  <thead>\n",
       "    <tr style=\"text-align: right;\">\n",
       "      <th></th>\n",
       "      <th>index</th>\n",
       "      <th>is_gb</th>\n",
       "    </tr>\n",
       "  </thead>\n",
       "  <tbody>\n",
       "    <tr>\n",
       "      <th>37</th>\n",
       "      <td>CSN8</td>\n",
       "      <td>0.10</td>\n",
       "    </tr>\n",
       "    <tr>\n",
       "      <th>20</th>\n",
       "      <td>AGR1</td>\n",
       "      <td>0.11</td>\n",
       "    </tr>\n",
       "    <tr>\n",
       "      <th>18</th>\n",
       "      <td>EST9</td>\n",
       "      <td>0.12</td>\n",
       "    </tr>\n",
       "  </tbody>\n",
       "</table>\n",
       "</div>"
      ],
      "text/plain": [
       "   index  is_gb\n",
       "37  CSN8   0.10\n",
       "20  AGR1   0.11\n",
       "18  EST9   0.12"
      ]
     },
     "execution_count": 49,
     "metadata": {},
     "output_type": "execute_result"
    }
   ],
   "source": [
    "corr_data[-4:-1]"
   ]
  },
  {
   "cell_type": "code",
   "execution_count": 50,
   "metadata": {},
   "outputs": [],
   "source": [
    "top_correlation = corr_data.sort_values('is_gb', ascending=False).head(10)['index'].to_list()\n",
    "least_correlation = corr_data.sort_values('is_gb', ascending=False).tail(5)['index'].to_list()"
   ]
  },
  {
   "cell_type": "code",
   "execution_count": 51,
   "metadata": {},
   "outputs": [
    {
     "data": {
      "text/plain": [
       "0.615683727140679"
      ]
     },
     "execution_count": 51,
     "metadata": {},
     "output_type": "execute_result"
    }
   ],
   "source": [
    "# Count the outcome variables to identify the baseline\n",
    "positives = len(df.loc[df_ml['is_gb']==1])\n",
    "negatives = len(df.loc[df_ml['is_gb']==0])\n",
    "1-(positives/(positives+negatives))"
   ]
  },
  {
   "cell_type": "code",
   "execution_count": 52,
   "metadata": {},
   "outputs": [],
   "source": [
    "# Select the dependent variable\n",
    "Y = df_ml['is_gb']\n",
    "X = df_ml.drop('is_gb',axis=1)"
   ]
  },
  {
   "cell_type": "code",
   "execution_count": 53,
   "metadata": {},
   "outputs": [],
   "source": [
    "# Split the data into train and test\n",
    "X_train, X_test, y_train, y_test = train_test_split(X, Y, test_size=0.2, random_state=42)"
   ]
  },
  {
   "cell_type": "markdown",
   "metadata": {},
   "source": [
    "<b> XGBOOST"
   ]
  },
  {
   "cell_type": "raw",
   "metadata": {},
   "source": [
    "#hyperopt (takes long to run)\n",
    "\n",
    "from hyperopt import hp, tpe\n",
    "from hyperopt.fmin import fmin\n",
    "import xgboost as xgb\n",
    "from sklearn.model_selection import cross_val_score, StratifiedKFold\n",
    "\n",
    "def objective(params):\n",
    "    params = {\n",
    "        'max_depth': int(params['max_depth']),\n",
    "        'gamma': \"{:.3f}\".format(params['gamma']),\n",
    "        'colsample_bytree': '{:.3f}'.format(params['colsample_bytree']),\n",
    "    }\n",
    "    \n",
    "    clf = xgb.XGBClassifier(\n",
    "        n_estimators=250,\n",
    "        learning_rate=0.05,\n",
    "        n_jobs=4,\n",
    "        **params\n",
    "    )\n",
    "    \n",
    "    score = cross_val_score(clf, X, Y, scoring=\"roc_auc\", cv=StratifiedKFold()).mean()\n",
    "    print(\"Score: {:.3f} params {}\".format(score, params))\n",
    "    return score\n",
    "\n",
    "space = {\n",
    "    'max_depth': hp.quniform('max_depth', 2, 8, 1),\n",
    "    'colsample_bytree': hp.uniform('colsample_bytree', 0.3, 1.0),\n",
    "    'gamma': hp.uniform('gamma', 0.0, 0.5),\n",
    "}\n",
    "\n",
    "best = fmin(fn=objective,\n",
    "            space=space,\n",
    "            algo=tpe.suggest,\n",
    "            max_evals=10)"
   ]
  },
  {
   "cell_type": "raw",
   "metadata": {},
   "source": [
    "print(\"Hyperopt estimated optimum {}\".format(best))"
   ]
  },
  {
   "cell_type": "code",
   "execution_count": 54,
   "metadata": {},
   "outputs": [
    {
     "data": {
      "text/plain": [
       "XGBClassifier(base_score=0.5, booster=None, colsample_bylevel=1,\n",
       "              colsample_bynode=1, colsample_bytree=0.5336629698328548,\n",
       "              gamma=0.08435594187707007, gpu_id=-1, importance_type='gain',\n",
       "              interaction_constraints=None, learning_rate=0.05,\n",
       "              max_delta_step=0, max_depth=3, min_child_weight=1, missing=nan,\n",
       "              monotone_constraints=None, n_estimators=1000, n_jobs=0,\n",
       "              num_parallel_tree=1, random_state=42, reg_alpha=0, reg_lambda=1,\n",
       "              scale_pos_weight=1, subsample=1, tree_method=None,\n",
       "              validate_parameters=False, verbosity=None)"
      ]
     },
     "execution_count": 54,
     "metadata": {},
     "output_type": "execute_result"
    }
   ],
   "source": [
    "import xgboost as xgb\n",
    "\n",
    "# Instantiate the model\n",
    "xgb_model = xgb.XGBClassifier(learning_rate=0.05, \n",
    "              max_depth=3,\n",
    "              gamma=0.08435594187707007,\n",
    "              colsample_bytree=0.5336629698328548,\n",
    "              n_estimators=1000, \n",
    "              objective='binary:logistic', \n",
    "              random_state=42)\n",
    "\n",
    "# fit model to training data\n",
    "xgb_model.fit(X_train, y_train)"
   ]
  },
  {
   "cell_type": "code",
   "execution_count": 55,
   "metadata": {},
   "outputs": [
    {
     "name": "stdout",
     "output_type": "stream",
     "text": [
      "Accuracy: 69.10%\n"
     ]
    }
   ],
   "source": [
    "# make predictions for test data\n",
    "y_pred = xgb_model.predict(X_test)\n",
    "predictions = [round(value) for value in y_pred]\n",
    "\n",
    "# evaluate predictions\n",
    "accuracy = accuracy_score(y_test, predictions)\n",
    "print(\"Accuracy: %.2f%%\" % (accuracy * 100.0))"
   ]
  },
  {
   "cell_type": "code",
   "execution_count": 56,
   "metadata": {},
   "outputs": [
    {
     "name": "stdout",
     "output_type": "stream",
     "text": [
      "AUC for threshold 0.45 : 0.6607593767239239\n",
      "XGB Classifier accuracy: 69.01%\n",
      "AUC for threshold 0.45263157894736844 : 0.6592229880561976\n",
      "XGB Classifier accuracy: 68.97%\n",
      "AUC for threshold 0.45526315789473687 : 0.6580273661915944\n",
      "XGB Classifier accuracy: 68.96%\n",
      "AUC for threshold 0.4578947368421053 : 0.6578843866611415\n",
      "XGB Classifier accuracy: 69.06%\n",
      "AUC for threshold 0.4605263157894737 : 0.6566900926329737\n",
      "XGB Classifier accuracy: 69.07%\n",
      "AUC for threshold 0.4631578947368421 : 0.6557825207405463\n",
      "XGB Classifier accuracy: 69.11%\n",
      "AUC for threshold 0.46578947368421053 : 0.6550975123415499\n",
      "XGB Classifier accuracy: 69.16%\n",
      "AUC for threshold 0.46842105263157896 : 0.6544891778743822\n",
      "XGB Classifier accuracy: 69.20%\n",
      "AUC for threshold 0.4710526315789474 : 0.654021675981353\n",
      "XGB Classifier accuracy: 69.26%\n",
      "AUC for threshold 0.4736842105263158 : 0.6530084160687523\n",
      "XGB Classifier accuracy: 69.27%\n",
      "AUC for threshold 0.4763157894736842 : 0.6523548230726929\n",
      "XGB Classifier accuracy: 69.31%\n",
      "AUC for threshold 0.4789473684210526 : 0.6509001653242585\n",
      "XGB Classifier accuracy: 69.28%\n",
      "AUC for threshold 0.48157894736842105 : 0.6489274358081618\n",
      "XGB Classifier accuracy: 69.21%\n",
      "AUC for threshold 0.4842105263157895 : 0.6473029313972444\n",
      "XGB Classifier accuracy: 69.14%\n",
      "AUC for threshold 0.4868421052631579 : 0.6465021210031476\n",
      "XGB Classifier accuracy: 69.15%\n",
      "AUC for threshold 0.48947368421052634 : 0.6453568146548996\n",
      "XGB Classifier accuracy: 69.14%\n",
      "AUC for threshold 0.4921052631578947 : 0.6448389972455154\n",
      "XGB Classifier accuracy: 69.19%\n",
      "AUC for threshold 0.49473684210526314 : 0.6426562195255072\n",
      "XGB Classifier accuracy: 69.09%\n",
      "AUC for threshold 0.49736842105263157 : 0.641533542441705\n",
      "XGB Classifier accuracy: 69.08%\n",
      "AUC for threshold 0.5 : 0.6406472719772881\n",
      "XGB Classifier accuracy: 69.10%\n"
     ]
    }
   ],
   "source": [
    "# Find optimal threshold\n",
    "thresholds=(np.linspace(0.45,0.50,20))\n",
    "for t in thresholds:\n",
    "    predictions=xgb_model.predict_proba(X_test)[:,1]>t\n",
    "    print(\"AUC for threshold\",t,\":\",\n",
    "         roc_auc_score(y_test, predictions))\n",
    "    accuracy = accuracy_score(y_test, predictions)\n",
    "    print(\"XGB Classifier accuracy: %.2f%%\" % (accuracy * 100.0))"
   ]
  },
  {
   "cell_type": "code",
   "execution_count": 57,
   "metadata": {},
   "outputs": [
    {
     "data": {
      "text/plain": [
       "1.1311475409836065"
      ]
     },
     "execution_count": 57,
     "metadata": {},
     "output_type": "execute_result"
    }
   ],
   "source": [
    "69/61"
   ]
  },
  {
   "cell_type": "code",
   "execution_count": 58,
   "metadata": {},
   "outputs": [
    {
     "data": {
      "text/plain": [
       "[('AGR3', 75.12803502181251),\n",
       " ('CSN8', 71.79966872000004),\n",
       " ('EST9', 68.63692929306221)]"
      ]
     },
     "execution_count": 58,
     "metadata": {},
     "output_type": "execute_result"
    }
   ],
   "source": [
    "# Check the most important features\n",
    "importance = xgb_model.get_booster().get_score(importance_type= 'gain')\n",
    "sorted(importance.items(), key=lambda x:x[1],reverse=True)[:3]"
   ]
  },
  {
   "cell_type": "markdown",
   "metadata": {},
   "source": [
    "<b> Question code mapping\n",
    "    \n",
    "AGR3: I insult people\n",
    "    \n",
    "CSN8: I shirk my duties\n",
    "    \n",
    "EST9: I get irritated easily"
   ]
  },
  {
   "cell_type": "code",
   "execution_count": 59,
   "metadata": {},
   "outputs": [
    {
     "data": {
      "text/html": [
       "<style  type=\"text/css\" >\n",
       "    #T_4d738688_a58f_11ea_8ee6_acbc3288468frow0_col2 {\n",
       "            width:  10em;\n",
       "             height:  80%;\n",
       "            background:  linear-gradient(90deg,#d65f5f 44.5%, transparent 44.5%);\n",
       "        }    #T_4d738688_a58f_11ea_8ee6_acbc3288468frow1_col2 {\n",
       "            width:  10em;\n",
       "             height:  80%;\n",
       "            background:  linear-gradient(90deg, transparent 44.5%, #5fba7d 44.5%, #5fba7d 85.8%, transparent 85.8%);\n",
       "        }    #T_4d738688_a58f_11ea_8ee6_acbc3288468frow2_col2 {\n",
       "            width:  10em;\n",
       "             height:  80%;\n",
       "            background:  linear-gradient(90deg, transparent 44.5%, #5fba7d 44.5%, #5fba7d 100.0%, transparent 100.0%);\n",
       "        }</style><table id=\"T_4d738688_a58f_11ea_8ee6_acbc3288468f\" ><thead>    <tr>        <th class=\"blank level0\" ></th>        <th class=\"col_heading level0 col0\" >gb_avg</th>        <th class=\"col_heading level0 col1\" >eu_avg</th>        <th class=\"col_heading level0 col2\" >value_difference</th>    </tr>    <tr>        <th class=\"index_name level0\" >personality</th>        <th class=\"blank\" ></th>        <th class=\"blank\" ></th>        <th class=\"blank\" ></th>    </tr></thead><tbody>\n",
       "                <tr>\n",
       "                        <th id=\"T_4d738688_a58f_11ea_8ee6_acbc3288468flevel0_row0\" class=\"row_heading level0 row0\" >AGR3</th>\n",
       "                        <td id=\"T_4d738688_a58f_11ea_8ee6_acbc3288468frow0_col0\" class=\"data row0 col0\" >0.509390</td>\n",
       "                        <td id=\"T_4d738688_a58f_11ea_8ee6_acbc3288468frow0_col1\" class=\"data row0 col1\" >0.753000</td>\n",
       "                        <td id=\"T_4d738688_a58f_11ea_8ee6_acbc3288468frow0_col2\" class=\"data row0 col2\" >-0.243610</td>\n",
       "            </tr>\n",
       "            <tr>\n",
       "                        <th id=\"T_4d738688_a58f_11ea_8ee6_acbc3288468flevel0_row1\" class=\"row_heading level0 row1\" >CSN8</th>\n",
       "                        <td id=\"T_4d738688_a58f_11ea_8ee6_acbc3288468frow1_col0\" class=\"data row1 col0\" >0.452909</td>\n",
       "                        <td id=\"T_4d738688_a58f_11ea_8ee6_acbc3288468frow1_col1\" class=\"data row1 col1\" >0.226514</td>\n",
       "                        <td id=\"T_4d738688_a58f_11ea_8ee6_acbc3288468frow1_col2\" class=\"data row1 col2\" >0.226395</td>\n",
       "            </tr>\n",
       "            <tr>\n",
       "                        <th id=\"T_4d738688_a58f_11ea_8ee6_acbc3288468flevel0_row2\" class=\"row_heading level0 row2\" >EST9</th>\n",
       "                        <td id=\"T_4d738688_a58f_11ea_8ee6_acbc3288468frow2_col0\" class=\"data row2 col0\" >0.311353</td>\n",
       "                        <td id=\"T_4d738688_a58f_11ea_8ee6_acbc3288468frow2_col1\" class=\"data row2 col1\" >0.007268</td>\n",
       "                        <td id=\"T_4d738688_a58f_11ea_8ee6_acbc3288468frow2_col2\" class=\"data row2 col2\" >0.304085</td>\n",
       "            </tr>\n",
       "    </tbody></table>"
      ],
      "text/plain": [
       "<pandas.io.formats.style.Styler at 0x7ff1adac7690>"
      ]
     },
     "execution_count": 59,
     "metadata": {},
     "output_type": "execute_result"
    }
   ],
   "source": [
    "gb_df = df.loc[df['is_gb']==1]\n",
    "eu_df = df.loc[df['is_gb']==0]\n",
    "comp_metrics = ['AGR3','CSN8','EST9']\n",
    "\n",
    "gb_df = transpose_table(gb_df,comp_metrics)\n",
    "eu_df = transpose_table(eu_df,comp_metrics)\n",
    "comp_df = pd.merge(gb_df, eu_df, left_index=True, right_index=True)\n",
    "comp_df.columns = ['gb_avg','eu_avg']\n",
    "comp_df['value_difference'] = comp_df['gb_avg'] - comp_df['eu_avg']\n",
    "comp_df.style.bar(subset=['value_difference'], align='mid', color=['#d65f5f', '#5fba7d'])"
   ]
  }
 ],
 "metadata": {
  "kernelspec": {
   "display_name": "Python (gajdulj)",
   "language": "python",
   "name": "gajdulj"
  },
  "language_info": {
   "codemirror_mode": {
    "name": "ipython",
    "version": 3
   },
   "file_extension": ".py",
   "mimetype": "text/x-python",
   "name": "python",
   "nbconvert_exporter": "python",
   "pygments_lexer": "ipython3",
   "version": "3.7.6"
  }
 },
 "nbformat": 4,
 "nbformat_minor": 4
}
